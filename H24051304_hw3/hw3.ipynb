{
 "cells": [
  {
   "cell_type": "code",
   "execution_count": 1,
   "metadata": {},
   "outputs": [
    {
     "name": "stdout",
     "output_type": "stream",
     "text": [
      "Populating the interactive namespace from numpy and matplotlib\n"
     ]
    }
   ],
   "source": [
    "%pylab inline"
   ]
  },
  {
   "cell_type": "code",
   "execution_count": 2,
   "metadata": {},
   "outputs": [],
   "source": [
    "#把字串變得可以運算\n",
    "def f(s):\n",
    "    return eval('[%s]'%s)\n",
    "\n",
    "import pandas as pd\n",
    "#把txt檔轉為csv檔\n",
    "df = pd.read_csv('In-class_network.txt', sep='\\t', index_col=0).fillna(0)\n",
    "#取出ID那一行並轉成字典\n",
    "adjacency = df.iloc[:,0].apply(f).to_dict()"
   ]
  },
  {
   "cell_type": "code",
   "execution_count": 3,
   "metadata": {},
   "outputs": [],
   "source": [
    "import networkx as nx"
   ]
  },
  {
   "cell_type": "code",
   "execution_count": 4,
   "metadata": {},
   "outputs": [
    {
     "data": {
      "image/png": "[encoded data removed]",
      "text/plain": [
       "<Figure size 432x288 with 1 Axes>"
      ]
     },
     "metadata": {},
     "output_type": "display_data"
    }
   ],
   "source": [
    "#畫出圖\n",
    "G = nx.Graph(adjacency)\n",
    "nx.draw(G)"
   ]
  },
  {
   "cell_type": "code",
   "execution_count": 38,
   "metadata": {},
   "outputs": [
    {
     "name": "stdout",
     "output_type": "stream",
     "text": [
      "75\n",
      "109\n",
      "2.90666666667\n",
      "<generator object all_pairs_shortest_path at 0x0D52A840>\n",
      "{0, 1, 2, 6, 8, 9, 11, 12, 14, 15, 19, 20, 22, 24, 25, 27, 29, 30, 32, 34, 35, 36, 38, 39, 40, 41, 44, 45, 46, 47, 49, 51, 53, 56, 57, 58, 59, 64, 65, 67, 68, 70, 71, 72, 73}\n"
     ]
    }
   ],
   "source": [
    "#nodes的個數\n",
    "num_nodes = G.order()\n",
    "print(num_nodes)\n",
    "\n",
    "#edges的個數\n",
    "num_edges = G.size()\n",
    "print(num_edges)\n",
    "\n",
    "#average degree\n",
    "degrees = G.degree()\n",
    "avg_degree = np.mean(list(dict(degrees).values()))\n",
    "print(avg_degree)\n",
    "\n",
    "#path length\n",
    "path = nx.all_pairs_shortest_path(G)\n",
    "print(path)\n",
    "\n",
    "#the size of the largest connected component\n",
    "cc = nx.connected_components(G)\n",
    "largest_cc = max(nx.connected_components(G), key=len)\n",
    "print(largest_cc)\n"
   ]
  },
  {
   "cell_type": "code",
   "execution_count": 47,
   "metadata": {},
   "outputs": [
    {
     "name": "stdout",
     "output_type": "stream",
     "text": [
      "{0: 0, 1: 0, 2: 3, 3: 3, 4: 7, 5: 6, 6: 3, 7: 7, 8: 1, 9: 7, 10: 0, 11: 1, 12: 3, 13: 7, 14: 0, 15: 3, 16: 0, 17: 3, 18: 6, 19: 3, 20: 2, 21: 0, 22: 0, 23: 0, 24: 7, 25: 3, 26: 0, 27: 0, 28: 0, 29: 0, 30: 1, 31: 3, 32: 0, 33: 7, 34: 0, 35: 4, 36: 0, 37: 3, 38: 3, 39: 5, 40: 0, 41: 1, 42: 0, 43: 3, 44: 0, 45: 1, 46: 1, 47: 2, 48: 3, 49: 3, 50: 0, 51: 4, 52: 0, 53: 3, 54: 0, 55: 0, 56: 3, 57: 0, 58: 0, 59: 0, 60: 0, 61: 1, 62: 0, 63: 3, 64: 1, 65: 0, 66: 6, 67: 3, 68: 0, 69: 7, 70: 5, 71: 2, 72: 1, 73: 2, 74: 0}\n"
     ]
    }
   ],
   "source": [
    "#計算這個 network的 triangle\n",
    "tri = nx.triangles(G)\n",
    "print(tri)"
   ]
  }
 ],
 "metadata": {
  "kernelspec": {
   "display_name": "Python 3",
   "language": "python",
   "name": "python3"
  },
  "language_info": {
   "codemirror_mode": {
    "name": "ipython",
    "version": 3
   },
   "file_extension": ".py",
   "mimetype": "text/x-python",
   "name": "python",
   "nbconvert_exporter": "python",
   "pygments_lexer": "ipython3",
   "version": "3.5.2"
  }
 },
 "nbformat": 4,
 "nbformat_minor": 2
}
