{
 "cells": [
  {
   "cell_type": "code",
   "execution_count": 1,
   "metadata": {},
   "outputs": [],
   "source": [
    "import networkx as nx\n",
    "import matplotlib.pyplot as plt\n",
    "import pandas as pd"
   ]
  },
  {
   "cell_type": "code",
   "execution_count": 2,
   "metadata": {},
   "outputs": [],
   "source": [
    "G=nx.Graph()"
   ]
  },
  {
   "cell_type": "code",
   "execution_count": 3,
   "metadata": {},
   "outputs": [],
   "source": [
    "#read the txt file into the python\n",
    "linelist,e,no=[],[],[]\n",
    "with open (\"In-class_network.txt\",\"r\") as F : \n",
    "    for line in F :\n",
    "        line=line.replace(\"\\t\",\".\").strip(\"\\n\").split(\".\")\n",
    "        linelist.append(line)\n",
    "    linelist=linelist[1:]\n",
    "    for i in range(len(linelist)):\n",
    "        linelist[i]=linelist[i][0:2]\n",
    "        linelist[i][0]=int(linelist[i][0])\n",
    "    for i in range(len(linelist)):\n",
    "        if linelist[i][1].count(\",\")>=1:\n",
    "            num=linelist[i][1].split(\",\")\n",
    "            for d in num :\n",
    "                e+=[(linelist[i][0],int(d))]\n",
    "        elif linelist[i][1]==\" \":\n",
    "            no+=[linelist[i][0]] #Create the node\n",
    "        else :\n",
    "            e+=[(linelist[i][0],int(linelist[i][1]))] #Create the edges"
   ]
  },
  {
   "cell_type": "code",
   "execution_count": 4,
   "metadata": {},
   "outputs": [],
   "source": [
    "G.add_nodes_from(no) #Let the nodes and edges been written into graph\n",
    "G.add_edges_from(e)"
   ]
  },
  {
   "cell_type": "code",
   "execution_count": 5,
   "metadata": {},
   "outputs": [
    {
     "data": {
      "image/png": "[encoded data removed]",
      "text/plain": [
       "<matplotlib.figure.Figure at 0x105167588>"
      ]
     },
     "metadata": {},
     "output_type": "display_data"
    }
   ],
   "source": [
    "# Draw the plot\n",
    "vector,degree=[],[]\n",
    "for i in G.nodes():\n",
    "    vector+=[i]\n",
    "    degree+=[len(G.edges(i))]\n",
    "ki=pd.DataFrame({\"vector\":vector,\"degree\":degree}) #Dataframe includs the id and degree\n",
    "ki=ki.sort_values(by=\"vector\")\n",
    "x,y=[],[]\n",
    "ki2=ki[\"degree\"].value_counts().sort_index() #After count the value , sort the dataframe by index\n",
    "for i in ki2.index:\n",
    "    x+=[i]\n",
    "    y+=[ki2[i]/G.order()]\n",
    "plt.bar(x,y)\n",
    "plt.xlabel(\"degree, k\")\n",
    "plt.ylabel(\"Pr(k)\")\n",
    "plt.show() #Show the degree distribution"
   ]
  },
  {
   "cell_type": "code",
   "execution_count": null,
   "metadata": {},
   "outputs": [],
   "source": []
  },
  {
   "cell_type": "code",
   "execution_count": null,
   "metadata": {},
   "outputs": [],
   "source": []
  },
  {
   "cell_type": "code",
   "execution_count": null,
   "metadata": {},
   "outputs": [],
   "source": []
  },
  {
   "cell_type": "code",
   "execution_count": null,
   "metadata": {},
   "outputs": [],
   "source": []
  },
  {
   "cell_type": "code",
   "execution_count": null,
   "metadata": {},
   "outputs": [],
   "source": []
  },
  {
   "cell_type": "code",
   "execution_count": null,
   "metadata": {},
   "outputs": [],
   "source": []
  }
 ],
 "metadata": {
  "kernelspec": {
   "display_name": "Python 3",
   "language": "python",
   "name": "python3"
  },
  "language_info": {
   "codemirror_mode": {
    "name": "ipython",
    "version": 3
   },
   "file_extension": ".py",
   "mimetype": "text/x-python",
   "name": "python",
   "nbconvert_exporter": "python",
   "pygments_lexer": "ipython3",
   "version": "3.6.4"
  }
 },
 "nbformat": 4,
 "nbformat_minor": 2
}
