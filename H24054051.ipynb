{
 "cells": [
  {
   "cell_type": "code",
   "execution_count": 1,
   "metadata": {},
   "outputs": [],
   "source": [
    "import matplotlib.pyplot as plt\n",
    "import networkx as nx\n",
    "import numpy as np\n",
    "import pandas as pd"
   ]
  },
  {
   "cell_type": "code",
   "execution_count": 3,
   "metadata": {},
   "outputs": [],
   "source": [
    "#read file\n",
    "one = []\n",
    "with open(\"In-class_network.txt\",\"r\") as f:\n",
    "    for line in f:\n",
    "        line = line.strip().split(\"\\t\")\n",
    "        one.append(line)\n",
    "one=pd.DataFrame(one[1:],columns=one[0])"
   ]
  },
  {
   "cell_type": "code",
   "execution_count": 4,
   "metadata": {},
   "outputs": [],
   "source": [
    "#區分nodes和edges\n",
    "ID=[]\n",
    "ID_node=[]\n",
    "for i in range(len(one)):\n",
    "    if one[\"IDs-of-acquaintances\"][i]==\" \":\n",
    "        ID_node.append(int(one[\"ID\"][i]))\n",
    "    if one[\"IDs-of-acquaintances\"][i]!=\" \":    \n",
    "        ID.append(one[\"ID\"][i])\n",
    "        ID.append(one[\"IDs-of-acquaintances\"][i])\n",
    "\n",
    "for i in range(1,len(ID),2):\n",
    "    ID[i]=ID[i].split(\",\")\n",
    "\n",
    "number=[]\n",
    "for j in range(1,len(ID),2):\n",
    "    for k in range(len(ID[j])):\n",
    "        number.append((int(ID[j-1]),int(ID[j][k])))"
   ]
  },
  {
   "cell_type": "code",
   "execution_count": 5,
   "metadata": {},
   "outputs": [],
   "source": [
    "#把nodes和edges加到Ｇ裡面\n",
    "G=nx.Graph()\n",
    "G.add_nodes_from(ID_node)\n",
    "G.add_edges_from(number)"
   ]
  },
  {
   "cell_type": "code",
   "execution_count": 6,
   "metadata": {},
   "outputs": [
    {
     "data": {
      "image/png": "[encoded data removed]",
      "text/plain": [
       "<Figure size 432x288 with 1 Axes>"
      ]
     },
     "metadata": {},
     "output_type": "display_data"
    }
   ],
   "source": [
    "def degree_distributions(G):\n",
    "    #個別的degree\n",
    "    G_degree=[]\n",
    "    for i in range(len(G.degree())):\n",
    "        G_degree.append(G.degree()[i])\n",
    "    #按照大小排列degree 還有算出有幾個\n",
    "    G_degree_count=[]\n",
    "    for i in range(len(sorted(G_degree))):\n",
    "        G_degree_count.append((sorted(G_degree)[i],G_degree.count(sorted(G_degree)[i])))\n",
    "\n",
    "    G_degree_count=pd.DataFrame(list(set(G_degree_count)))\n",
    "    G_degree_count[2]=G_degree_count[1]/sum(G_degree_count[1])\n",
    "    #draw\n",
    "    plt.bar(G_degree_count[0],G_degree_count[2])\n",
    "    plt.title(\"degree distributions\")\n",
    "    plt.xlabel(\"degree,k\")\n",
    "    plt.ylabel(\"Pr(k)\")\n",
    "    plt.show()\n",
    "degree_distributions(G)"
   ]
  },
  {
   "cell_type": "code",
   "execution_count": 8,
   "metadata": {},
   "outputs": [],
   "source": [
    "other_G_degree=[]\n",
    "for i in range(len(G.degree())):\n",
    "    other_G_degree.append(G.degree()[i])"
   ]
  },
  {
   "cell_type": "code",
   "execution_count": 12,
   "metadata": {},
   "outputs": [
    {
     "data": {
      "image/png": "[encoded data removed]",
      "text/plain": [
       "<Figure size 432x288 with 1 Axes>"
      ]
     },
     "metadata": {},
     "output_type": "display_data"
    }
   ],
   "source": [
    "other_G_degree_count=pd.DataFrame(other_G_degree)\n",
    "other_G_degree_count[1]=other_G_degree_count[0]/sum(other_G_degree_count[0])\n",
    "plt.bar(other_G_degree_count[0].index,other_G_degree_count[1])\n",
    "plt.title(\"degree distributions\")\n",
    "plt.xlabel(\"degree,k\")\n",
    "plt.ylabel(\"Pr(k)\")\n",
    "plt.show()"
   ]
  },
  {
   "cell_type": "code",
   "execution_count": null,
   "metadata": {},
   "outputs": [],
   "source": []
  },
  {
   "cell_type": "code",
   "execution_count": null,
   "metadata": {},
   "outputs": [],
   "source": []
  },
  {
   "cell_type": "code",
   "execution_count": null,
   "metadata": {},
   "outputs": [],
   "source": []
  },
  {
   "cell_type": "code",
   "execution_count": null,
   "metadata": {},
   "outputs": [],
   "source": []
  }
 ],
 "metadata": {
  "kernelspec": {
   "display_name": "Python 3",
   "language": "python",
   "name": "python3"
  },
  "language_info": {
   "codemirror_mode": {
    "name": "ipython",
    "version": 3
   },
   "file_extension": ".py",
   "mimetype": "text/x-python",
   "name": "python",
   "nbconvert_exporter": "python",
   "pygments_lexer": "ipython3",
   "version": "3.5.2"
  }
 },
 "nbformat": 4,
 "nbformat_minor": 2
}
