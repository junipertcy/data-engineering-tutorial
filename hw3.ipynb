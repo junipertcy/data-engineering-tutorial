{
 "cells": [
  {
   "cell_type": "code",
   "execution_count": 1,
   "metadata": {
    "collapsed": true
   },
   "outputs": [],
   "source": [
    "import networkx as nx\n",
    "from networkie.gen.Custom import LoadFromFile\n",
    "import numpy as np\n",
    "import pandas as pd\n",
    "import matplotlib.pyplot as plt\n",
    "import seaborn as sns"
   ]
  },
  {
   "cell_type": "code",
   "execution_count": 2,
   "metadata": {},
   "outputs": [
    {
     "name": "stdout",
     "output_type": "stream",
     "text": [
      "[('1', '58'), ('58', '68'), ('2', '56'), ('2', '34'), ('2', '25'), ('2', '30'), ('2', '45'), ('56', '25'), ('56', '30'), ('56', '47'), ('25', '57'), ('25', '45'), ('25', '47'), ('4', '13'), ('4', '18'), ('4', '66'), ('4', '61'), ('4', '5'), ('4', '10'), ('13', '5'), ('13', '66'), ('13', '18'), ('13', '61'), ('18', '5'), ('18', '66'), ('18', '42'), ('66', '5'), ('10', '54'), ('6', '19'), ('6', '53'), ('6', '38'), ('6', '36'), ('6', '67'), ('19', '38'), ('19', '53'), ('19', '64'), ('53', '38'), ('38', '41'), ('38', '70'), ('7', '3'), ('7', '21'), ('7', '17'), ('7', '69'), ('7', '63'), ('7', '33'), ('3', '33'), ('3', '69'), ('17', '33'), ('17', '69'), ('69', '33'), ('69', '63'), ('63', '33'), ('8', '70'), ('8', '20'), ('70', '15'), ('70', '20'), ('70', '35'), ('70', '67'), ('70', '0'), ('70', '44'), ('20', '35'), ('20', '68'), ('9', '40'), ('9', '51'), ('9', '39'), ('9', '32'), ('9', '46'), ('9', '27'), ('9', '71'), ('9', '24'), ('9', '12'), ('51', '24'), ('51', '39'), ('51', '46'), ('39', '12'), ('39', '24'), ('27', '15'), ('71', '24'), ('71', '41'), ('24', '12'), ('24', '41'), ('12', '65'), ('12', '22'), ('65', '14'), ('15', '35'), ('15', '67'), ('35', '67'), ('64', '41'), ('64', '49'), ('64', '73'), ('68', '29'), ('23', '28'), ('31', '48'), ('31', '43'), ('31', '37'), ('48', '37'), ('48', '43'), ('43', '37'), ('37', '52'), ('44', '59'), ('47', '11'), ('47', '49'), ('11', '49'), ('49', '73'), ('49', '72'), ('73', '72'), ('50', '55'), ('60', '62'), ('62', '16')]\n"
     ]
    }
   ],
   "source": [
    "## 3-a\n",
    "L = LoadFromFile()\n",
    "G = L.from_in_class_network()\n",
    "print(G.edges())"
   ]
  },
  {
   "cell_type": "code",
   "execution_count": 3,
   "metadata": {},
   "outputs": [
    {
     "data": {
      "image/png": "[encoded data removed]",
      "text/plain": [
       "<matplotlib.figure.Figure at 0x23134f290f0>"
      ]
     },
     "metadata": {},
     "output_type": "display_data"
    }
   ],
   "source": [
    "nx.draw(G, node_color = '#00BBFF',pos = nx.spring_layout(G), node_size = 100, with_labels = True,font_size=8,width=2)\n",
    "plt.show()"
   ]
  },
  {
   "cell_type": "code",
   "execution_count": 4,
   "metadata": {},
   "outputs": [
    {
     "name": "stdout",
     "output_type": "stream",
     "text": [
      "The number of nodes: 73\n"
     ]
    }
   ],
   "source": [
    "## 3-b-1\n",
    "print(\"The number of nodes:\" , G.order())"
   ]
  },
  {
   "cell_type": "code",
   "execution_count": 5,
   "metadata": {},
   "outputs": [
    {
     "name": "stdout",
     "output_type": "stream",
     "text": [
      "The number of edges: 109\n"
     ]
    }
   ],
   "source": [
    "## 3-b-2\n",
    "print(\"The number of edges:\", G.size())"
   ]
  },
  {
   "cell_type": "code",
   "execution_count": 6,
   "metadata": {
    "scrolled": true
   },
   "outputs": [
    {
     "name": "stdout",
     "output_type": "stream",
     "text": [
      "Average degree <k>: 2.98630136986\n"
     ]
    }
   ],
   "source": [
    "## 3-b-3\n",
    "average_degree = np.mean(list(dict(G.degree()).values()))\n",
    "print(\"Average degree <k>:\", average_degree)"
   ]
  },
  {
   "cell_type": "code",
   "execution_count": 7,
   "metadata": {},
   "outputs": [
    {
     "name": "stdout",
     "output_type": "stream",
     "text": [
      "['35', '65', '12', '15', '39', '58', '6', '11', '30', '8', '40', '46', '2', '64', '71', '36', '24', '38', '44', '27', '41', '1', '70', '67', '14', '9', '25', '56', '32', '19', '34', '45', '51', '53', '49', '72', '73', '47', '0', '68', '22', '29', '57', '59', '20']\n",
      "Average path length l: 4.721212121212122\n",
      "\n",
      "['18', '10', '13', '5', '66', '61', '4', '42', '54']\n",
      "Average path length l: 1.8333333333333333\n",
      "\n",
      "['7', '21', '69', '63', '3', '17', '33']\n",
      "Average path length l: 1.380952380952381\n",
      "\n",
      "['28', '23']\n",
      "Average path length l: 1.0\n",
      "\n",
      "['52', '48', '31', '43', '37']\n",
      "Average path length l: 1.3\n",
      "\n",
      "['50', '55']\n",
      "Average path length l: 1.0\n",
      "\n",
      "['60', '16', '62']\n",
      "Average path length l: 1.3333333333333333\n",
      "\n"
     ]
    }
   ],
   "source": [
    "## 3-b-4\n",
    "for C in nx.connected_component_subgraphs(G):\n",
    "    print(C.node)\n",
    "    print(\"Average path length l:\",nx.average_shortest_path_length(C))\n",
    "    print()"
   ]
  },
  {
   "cell_type": "code",
   "execution_count": 8,
   "metadata": {},
   "outputs": [
    {
     "name": "stdout",
     "output_type": "stream",
     "text": [
      "The size of the largest connected component nG: \n",
      " {'35', '65', '12', '15', '39', '58', '6', '11', '30', '8', '46', '40', '64', '71', '2', '36', '24', '38', '44', '27', '41', '1', '70', '67', '14', '9', '25', '56', '32', '19', '34', '45', '51', '53', '49', '72', '73', '47', '0', '68', '22', '29', '57', '59', '20'}\n",
      "\n",
      "The number of nodes: 45\n"
     ]
    }
   ],
   "source": [
    "## 3-b-5\n",
    "largest_cc = max(nx.connected_components(G), key=len)\n",
    "print(\"The size of the largest connected component nG: \\n\", largest_cc)\n",
    "print(\"\\nThe number of nodes:\", len(largest_cc))"
   ]
  },
  {
   "cell_type": "code",
   "execution_count": 9,
   "metadata": {},
   "outputs": [
    {
     "name": "stdout",
     "output_type": "stream",
     "text": [
      "The number of the complete graph edges: 2628\n",
      "e/e_max: 0.04147640791476408\n"
     ]
    }
   ],
   "source": [
    "## 3-c\n",
    "complete_graph = nx.complete_graph(G.order())\n",
    "e_max =  complete_graph.size()\n",
    "print(\"The number of the complete graph edges:\", e_max)\n",
    "print(\"e/e_max:\", G.size()/e_max)"
   ]
  },
  {
   "cell_type": "code",
   "execution_count": 10,
   "metadata": {},
   "outputs": [
    {
     "data": {
      "image/png": "[encoded data removed]",
      "text/plain": [
       "<matplotlib.figure.Figure at 0x231320ab518>"
      ]
     },
     "metadata": {},
     "output_type": "display_data"
    }
   ],
   "source": [
    "## 3-d\n",
    "from networkie.utils.Measures import Node\n",
    "n = Node()\n",
    "\n",
    "degree = n.degree_dist(G)\n",
    "index = []\n",
    "\n",
    "for i in G.nodes:\n",
    "    index.append(i)\n",
    "\n",
    "df_degree = pd.DataFrame({\"Degree\":degree},index = index)\n",
    "\n",
    "fig, ax = plt.subplots(figsize= (20,5))\n",
    "sns.barplot(x = index, y = \"Degree\", data = df_degree, palette = \"GnBu_d\", ax = ax)\n",
    "ax.set_xlabel('ID',fontsize=15)\n",
    "ax.set_ylabel(\"Degree\",fontsize=15)\n",
    "plt.show()"
   ]
  },
  {
   "cell_type": "code",
   "execution_count": 11,
   "metadata": {
    "scrolled": true
   },
   "outputs": [
    {
     "name": "stdout",
     "output_type": "stream",
     "text": [
      "The total number of triangles: 52.0\n"
     ]
    }
   ],
   "source": [
    "## 3-e\n",
    "from networkie.utils.Measures import compute_num_triangles \n",
    "compute_num_triangles(G)"
   ]
  }
 ],
 "metadata": {
  "kernelspec": {
   "display_name": "Python 3",
   "language": "python",
   "name": "python3"
  },
  "language_info": {
   "codemirror_mode": {
    "name": "ipython",
    "version": 3
   },
   "file_extension": ".py",
   "mimetype": "text/x-python",
   "name": "python",
   "nbconvert_exporter": "python",
   "pygments_lexer": "ipython3",
   "version": "3.6.3"
  }
 },
 "nbformat": 4,
 "nbformat_minor": 2
}
