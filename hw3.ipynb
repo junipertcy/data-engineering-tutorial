{
 "cells": [
  {
   "cell_type": "code",
   "execution_count": 7,
   "metadata": {},
   "outputs": [
    {
     "name": "stdout",
     "output_type": "stream",
     "text": [
      "Name: \n",
      "Type: Graph\n",
      "Number of nodes: 73\n",
      "Number of edges: 109\n",
      "Average degree:   2.9863\n",
      "Edgelist txt data successfully loaded into a networkx Graph!\n"
     ]
    },
    {
     "data": {
      "text/plain": [
       "<networkx.classes.graph.Graph at 0x204305f2390>"
      ]
     },
     "execution_count": 7,
     "metadata": {},
     "output_type": "execute_result"
    }
   ],
   "source": [
    "# prob. 3-a\n",
    "import networkx as nx\n",
    "import itertools\n",
    "\n",
    "class LoadFromFile(object):\n",
    "    def __init__(self):\n",
    "        \"\"\"\n",
    "        Initiate variables for the class.\n",
    "        \"\"\"\n",
    "        self.g = nx.Graph()\n",
    "\n",
    "        pass\n",
    "        \n",
    "    def from_in_class_network(self, path):  # This is Prob. 3-a.\n",
    "        '''\n",
    "        Prob. 4-a.\n",
    "        1. read the txt file by line, and split it by tab\n",
    "        2. ID stored in the first index of the line, append them in 'nodelist'\n",
    "        3. IDs-of-acquaintances stored in the second index of the line,\n",
    "        combine them with the correspond ID and store them in 'edgelist'.\n",
    "        4. Remind that there may be more than one acquaintance in the data,\n",
    "        split it by ',' and store them in 'temp_edge'\n",
    "        5. parse the 'nodelist' and 'edgelist' data into nx.Graph()\n",
    "        6. return the graph\n",
    "        '''\n",
    "        edgelist = []\n",
    "        nodelist = []\n",
    "        counter = 0\n",
    "        with open(path, 'r') as f:\n",
    "            for line in f:\n",
    "                node_pair = line.replace('\\n', '').split('\\t')\n",
    "                if counter != 0:\n",
    "                    nodelist += [node_pair[0]]\n",
    "                    temp_edge = node_pair[1].split(',')\n",
    "                    for i in range(len(temp_edge)):\n",
    "                        if (node_pair[1][i].isspace() == False) :\n",
    "                            current_edge = [node_pair[0], temp_edge[i]]\n",
    "                            edgelist += [current_edge]\n",
    "                counter = counter + 1\n",
    "        self.g.add_edges_from(edgelist)\n",
    "        print(nx.info(self.g))\n",
    "        print('Edgelist txt data successfully loaded into a networkx Graph!')\n",
    "        return self.g\n",
    "    \n",
    "    def compute_num_triangles(self):  # This is Prob. 3-e.\n",
    "        '''\n",
    "        Prob 3.e\n",
    "        1. find all unique combinations of all edges, store them in 'all_comb'\n",
    "        2. store all edges in 'all_edge'\n",
    "        3. if a triangles exist, e.g: (a,b,c), then (a,b), (b,c), (c,a) should also exist,\n",
    "        4. cause this is an undirected network, (b,a) (c,b) (a,c),should also do the job\n",
    "        5. use an if condition to find all the combinations that satisfy 3.\n",
    "        6. plus 1 to 'triangles' when the current combinations satisfy 3. 4. 5.\n",
    "        7. return 'triangles'\n",
    "        '''\n",
    "        all_comb = list(itertools.combinations(self.g.nodes(), 3))\n",
    "        triangles = 0\n",
    "        all_edge = list(self.g.edges())\n",
    "        for i in range(len(all_comb)):\n",
    "            num_1 = all_comb[i][0]\n",
    "            num_2 = all_comb[i][1]\n",
    "            num_3 = all_comb[i][2]\n",
    "            \n",
    "            if ((num_1, num_2) in all_edge) or ((num_2, num_1) in all_edge):\n",
    "                if((num_2, num_3) in all_edge) or ((num_3, num_2) in all_edge):\n",
    "                    if((num_1, num_3) in all_edge) or ((num_3, num_1) in all_edge):\n",
    "                        triangles = triangles + 1\n",
    "        return triangles\n",
    "    \n",
    "in_class = LoadFromFile()\n",
    "in_class.from_in_class_network('E:/WORKOUT/Statistic/data_sciense_intro/hw3/In-class_network.txt')\n",
    "        "
   ]
  },
  {
   "cell_type": "code",
   "execution_count": 2,
   "metadata": {},
   "outputs": [
    {
     "name": "stdout",
     "output_type": "stream",
     "text": [
      "answer of (i) (ii) and (iii)\n",
      "Name: \n",
      "Type: Graph\n",
      "Number of nodes: 73\n",
      "Number of edges: 109\n",
      "Average degree:   2.9863\n",
      "----------\n",
      "answer of (iv)\n",
      "4.721212121212122\n",
      "1.8333333333333333\n",
      "1.380952380952381\n",
      "1.0\n",
      "1.3\n",
      "1.0\n",
      "1.3333333333333333\n",
      "----------\n",
      "answer of (v)\n",
      "9\n"
     ]
    }
   ],
   "source": [
    "# prob. 3-b\n",
    "print('answer of (i) (ii) and (iii)')\n",
    "print(nx.info(in_class.g))\n",
    "print('----------')\n",
    "print('answer of (iv)')\n",
    "for C in nx.connected_component_subgraphs(in_class.g):\n",
    "    print(nx.average_shortest_path_length(C))\n",
    "print('----------')\n",
    "print('answer of (v)')\n",
    "all_nodes = in_class.g.nodes()\n",
    "list_of_degree = list(in_class.g.degree(all_nodes))\n",
    "        \n",
    "all_degree = []\n",
    "for i in range(len(list_of_degree)):\n",
    "    all_degree.append(list_of_degree[i][1])\n",
    "print(max(all_degree))"
   ]
  },
  {
   "cell_type": "code",
   "execution_count": 3,
   "metadata": {},
   "outputs": [
    {
     "name": "stdout",
     "output_type": "stream",
     "text": [
      "1.  2628.0\n",
      "2.  0.04147640791476408\n"
     ]
    }
   ],
   "source": [
    "# prob. 3-c\n",
    "ans = 73*72/2\n",
    "print('1. ',ans)\n",
    "ans_2 = 109 / ans\n",
    "print('2. ', ans_2)"
   ]
  },
  {
   "cell_type": "code",
   "execution_count": 8,
   "metadata": {},
   "outputs": [
    {
     "name": "stdout",
     "output_type": "stream",
     "text": [
      "Total unique triangles: 52\n",
      "Total triangles:  156\n",
      "Total triangles of exist API: 156\n",
      "Having the same result from both mine and API\n"
     ]
    }
   ],
   "source": [
    "# prob 3.e\n",
    "triangles = in_class.compute_num_triangles()\n",
    "print('Total unique triangles:', triangles)\n",
    "print('Total triangles: ', triangles*3)\n",
    "print('Total triangles of exist API:', sum(list(nx.triangles(in_class.g).values())))\n",
    "print('Having the same result from both mine and API')"
   ]
  },
  {
   "cell_type": "code",
   "execution_count": null,
   "metadata": {},
   "outputs": [],
   "source": []
  }
 ],
 "metadata": {
  "kernelspec": {
   "display_name": "Python 3",
   "language": "python",
   "name": "python3"
  },
  "language_info": {
   "codemirror_mode": {
    "name": "ipython",
    "version": 3
   },
   "file_extension": ".py",
   "mimetype": "text/x-python",
   "name": "python",
   "nbconvert_exporter": "python",
   "pygments_lexer": "ipython3",
   "version": "3.6.5"
  }
 },
 "nbformat": 4,
 "nbformat_minor": 2
}
