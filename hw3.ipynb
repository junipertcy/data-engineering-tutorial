{
 "cells": [
  {
   "cell_type": "code",
   "execution_count": 1,
   "metadata": {
    "scrolled": false
   },
   "outputs": [
    {
     "name": "stdout",
     "output_type": "stream",
     "text": [
      "Populating the interactive namespace from numpy and matplotlib\n"
     ]
    }
   ],
   "source": [
    "%pylab inline\n",
    "import networkx as nx"
   ]
  },
  {
   "cell_type": "markdown",
   "metadata": {},
   "source": [
    "## 1"
   ]
  },
  {
   "cell_type": "raw",
   "metadata": {},
   "source": [
    " (a) Acyclic directed : Schedule\n",
    " \n",
    "Acyclic directed graph have topology order, pop nodes have no indegree one by one.\n",
    "schedule also have orders, things are done one by one, things are done cannot be undone. \n",
    " \n",
    " (b) Cyclic directed : Deterministic finite automata\n",
    "\n",
    "node: states\n",
    "edge: transition between states\n",
    "\n",
    " (c) Tree : package\n",
    " \n",
    "networkie\n",
    "├── networkie\n",
    "│   ├── gen\n",
    "│   │   ├── __init__.py\n",
    "│   │   └── Custom.py\n",
    "│   └── utils\n",
    "│       ├── __init__.py\n",
    "│       └── Measures.py\n",
    "└── tests\n",
    "    ├── __init__.py\n",
    "    ├── test_bipartiteness.py\n",
    "    └── test_compute_degrees.py\n",
    "    \n",
    " (d) Planar : Country (node), border (edge)\n",
    " \n",
    "Surface of a ball can be mapped to a plan by map projection.\n",
    "tie two countries if there is a border between them.\n",
    " \n",
    " (e) Bipartite : students--department\n",
    " \n",
    " A  B    C  D  E  F  G  H ...\n",
    " | / \\  / \\/  /   |  ...\n",
    "STAT CSIE EE ACC FLL CL CHEM ...\n",
    "\n",
    " (f) Temporal : friendship\n",
    "\n",
    "remove edge: break up, grow apart\n",
    "add edge: new friend"
   ]
  },
  {
   "cell_type": "markdown",
   "metadata": {},
   "source": [
    "## 2"
   ]
  },
  {
   "cell_type": "raw",
   "metadata": {},
   "source": [
    "(a)                (b)\n",
    "                    \n",
    "[[0 0 0 0 1]       [ 1:[5]\n",
    " [1 0 1 1 0]         2:[1, 3, 4] \n",
    " [0 0 0 0 0]         3:[]\n",
    " [0 1 1 0 1]         4:[2, 3, 5]\n",
    " [0 0 0 1 0]]        5:[4] ] \n",
    "\n",
    " (c) \n",
    "                  [[1 1 1 0 0]\n",
    "[[1 0 0 0 0 0]     [0 1 0 0 0] \n",
    " [1 1 0 0 0 0]     [0 0 1 1 0] \n",
    " [1 0 1 1 0 0]     [0 0 1 0 0] \n",
    " [0 0 1 0 1 1]     [0 0 0 1 1] \n",
    " [0 0 0 0 1 1]]    [0 0 0 1 1]]\n",
    "\n",
    " (d)\n",
    " \n",
    "0   1   2    vector_a [1 1 0 1 0 0 1]  \n",
    " \\ / \\ /     vector_b [0 1 1 1 1 1 0]          \n",
    "  5a──6b       a．b          2          \n",
    "   \\ / \\     ────────  = ───────── = 0.4472136 \n",
    "    3   4    |a|．|b|     sqrt(20)  "
   ]
  },
  {
   "cell_type": "markdown",
   "metadata": {},
   "source": [
    "## 3 (a)"
   ]
  },
  {
   "cell_type": "code",
   "execution_count": 2,
   "metadata": {},
   "outputs": [
    {
     "data": {
      "text/plain": [
       "True"
      ]
     },
     "execution_count": 2,
     "metadata": {},
     "output_type": "execute_result"
    }
   ],
   "source": [
    "from networkie.gen.Custom import LoadFromFile\n",
    "G = LoadFromFile().from_in_class_network('dataset/In-class_network.txt', directed=True)\n",
    "isinstance(G, nx.DiGraph)"
   ]
  },
  {
   "cell_type": "markdown",
   "metadata": {},
   "source": [
    "## 3 (b)"
   ]
  },
  {
   "cell_type": "code",
   "execution_count": 3,
   "metadata": {
    "scrolled": true
   },
   "outputs": [
    {
     "name": "stdout",
     "output_type": "stream",
     "text": [
      "Name: \n",
      "Type: Graph\n",
      "Number of nodes: 75\n",
      "Number of edges: 109\n",
      "Average degree:   2.9067\n",
      "Average path length: 4.50847457627\n",
      "Size of largest connected component: 45\n"
     ]
    }
   ],
   "source": [
    "G = G.to_undirected()\n",
    "print(nx.info(G))\n",
    "components = [ G.subgraph(nodes) for nodes in nx.connected_components(G) ]\n",
    "num_of_nodes = np.array([ g.order() for g in components ])\n",
    "num_of_shortest_path = num_of_nodes*(num_of_nodes-1)\n",
    "avg_shortest_path = np.array([nx.average_shortest_path_length(g)\n",
    "                                    for g in components])\n",
    "avg = (avg_shortest_path*num_of_shortest_path).sum()/num_of_shortest_path.sum()\n",
    "print('Average path length:', avg)\n",
    "print('Size of largest connected component:', max(num_of_nodes))"
   ]
  },
  {
   "cell_type": "markdown",
   "metadata": {},
   "source": [
    "## 3 (c)"
   ]
  },
  {
   "cell_type": "code",
   "execution_count": 4,
   "metadata": {},
   "outputs": [
    {
     "name": "stdout",
     "output_type": "stream",
     "text": [
      "e / emax: 0.03927927927927928\n"
     ]
    }
   ],
   "source": [
    "emax = G.order()*(G.order()-1)//2\n",
    "print('e / emax:', G.size()/emax)"
   ]
  },
  {
   "cell_type": "markdown",
   "metadata": {},
   "source": [
    "## 3 (d)"
   ]
  },
  {
   "cell_type": "code",
   "execution_count": 5,
   "metadata": {},
   "outputs": [],
   "source": [
    "from networkie.utils import Measures\n",
    "list_of_degree = Measures.Node(G).degree_dist()"
   ]
  },
  {
   "cell_type": "code",
   "execution_count": 6,
   "metadata": {},
   "outputs": [
    {
     "data": {
      "text/plain": [
       "<Container object of 10 artists>"
      ]
     },
     "execution_count": 6,
     "metadata": {},
     "output_type": "execute_result"
    },
    {
     "data": {
      "image/png": "[encoded data removed]",
      "text/plain": [
       "<matplotlib.figure.Figure at 0xfbf1b90>"
      ]
     },
     "metadata": {},
     "output_type": "display_data"
    }
   ],
   "source": [
    "l = [0]*(1+max(list_of_degree))\n",
    "for d in list_of_degree:\n",
    "    l[d] += 1\n",
    "plt.bar(range(len(l)), l, tick_label=range(len(l)))"
   ]
  },
  {
   "cell_type": "markdown",
   "metadata": {},
   "source": [
    "## 3 (e)"
   ]
  },
  {
   "cell_type": "code",
   "execution_count": 7,
   "metadata": {
    "scrolled": true
   },
   "outputs": [
    {
     "data": {
      "text/plain": [
       "52"
      ]
     },
     "execution_count": 7,
     "metadata": {},
     "output_type": "execute_result"
    }
   ],
   "source": [
    "Measures.compute_num_triangles(G)"
   ]
  },
  {
   "cell_type": "markdown",
   "metadata": {},
   "source": [
    "## 6"
   ]
  },
  {
   "cell_type": "code",
   "execution_count": 19,
   "metadata": {},
   "outputs": [],
   "source": [
    "import heapq\n",
    "import random as rd\n",
    "\n",
    "class Recommendation:\n",
    "\n",
    "    def __init__(self, G, copy=True):\n",
    "        self.g = G.copy() if copy else G\n",
    "        self.potential = [set() for i in range(self.g.order())]\n",
    "        self.update(range(self.g.order()))\n",
    "    \n",
    "    def update(self, node_list=None):\n",
    "        if node_list is not None:\n",
    "            for node in node_list:\n",
    "                self.potential[node].clear()\n",
    "                self.potential_firend(node)\n",
    "        self.degree = np.array(Measures.Node(self.g).degree_dist())\n",
    "\n",
    "    def potential_firend(self, someone):\n",
    "        check = {someone} | set(self.g[someone])\n",
    "        for friend in self.g[someone]:\n",
    "            for friend_of_friend in self.g[friend]:\n",
    "                if friend_of_friend in check:\n",
    "                    continue\n",
    "                self.potential[someone].add(friend_of_friend)\n",
    "                check.add(friend_of_friend)\n",
    "        return self.potential[someone]\n",
    "\n",
    "    def friends_in_common(self, u, v):\n",
    "        return len(set(self.g[u]) & set(self.g[v]))\n",
    "    \n",
    "    def importance(self, u, v):\n",
    "        return self.degree[[u,v]].sum()\n",
    "\n",
    "    def recommend(self, node, n):\n",
    "        lis = [ ( -self.friends_in_common(ppl, node),\n",
    "                  -self.importance(ppl, node), ppl )\n",
    "                                  for ppl in self.potential[node] ]\n",
    "        heapq.heapify(lis)\n",
    "        for i in range(min(n, len(lis))):\n",
    "            yield heapq.heappop(lis)[2]\n",
    "\n",
    "    def remove_edge(self, ratio=0.05):\n",
    "        edges = rd.sample(self.g.edges, round(self.g.size()*ratio) )\n",
    "        self.g.remove_edges_from(edges)\n",
    "        self.update(range(self.g.order()))\n",
    "        return len(edges)\n",
    "    \n",
    "    def all_potential(self):\n",
    "        for i, set_i in enumerate(self.potential):\n",
    "            for n in set_i:\n",
    "                if i < n:\n",
    "                    yield (i, n)\n",
    "    \n",
    "    def add_recommend(self, n_run = 1):\n",
    "        for i in range(n_run):\n",
    "            edges = np.array(list(self.all_potential()))\n",
    "            in_common = np.array([self.friends_in_common(*e) for e in edges])\n",
    "            edges = edges[in_common == in_common.max()]\n",
    "            importance = self.degree[edges].sum(1)\n",
    "            edges = edges[importance == importance.max()]\n",
    "            u, v = rd.choice(edges)\n",
    "            self.g.add_edge(u, v)\n",
    "            self.update(set(self.g[u]) | set(self.g[v]))\n"
   ]
  },
  {
   "cell_type": "code",
   "execution_count": 20,
   "metadata": {},
   "outputs": [
    {
     "name": "stdout",
     "output_type": "stream",
     "text": [
      "Recommendation for student 45:  56 47 30\n"
     ]
    }
   ],
   "source": [
    "rec = Recommendation(G, copy=True)\n",
    "print('Recommendation for student 45: ', *rec.recommend(45, 3) )\n",
    "remove_n = rec.remove_edge(ratio=.05)\n",
    "rec.add_recommend(n_run=remove_n)"
   ]
  },
  {
   "cell_type": "code",
   "execution_count": 21,
   "metadata": {
    "scrolled": true
   },
   "outputs": [
    {
     "data": {
      "text/plain": [
       "EdgeView([(3, 17), (3, 63), (11, 47), (12, 51), (17, 63), (24, 71), (35, 67), (43, 48)])"
      ]
     },
     "execution_count": 21,
     "metadata": {},
     "output_type": "execute_result"
    }
   ],
   "source": [
    "nx.symmetric_difference(rec.g, G).edges\n",
    "# within 5 removed, 5 added back, most of them are different"
   ]
  }
 ],
 "metadata": {
  "kernelspec": {
   "display_name": "Python 3",
   "language": "python",
   "name": "python3"
  },
  "language_info": {
   "codemirror_mode": {
    "name": "ipython",
    "version": 3
   },
   "file_extension": ".py",
   "mimetype": "text/x-python",
   "name": "python",
   "nbconvert_exporter": "python",
   "pygments_lexer": "ipython3",
   "version": "3.6.5"
  }
 },
 "nbformat": 4,
 "nbformat_minor": 2
}
