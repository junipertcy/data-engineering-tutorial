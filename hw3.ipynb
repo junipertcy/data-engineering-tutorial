{
 "cells": [
  {
   "cell_type": "code",
   "execution_count": 2,
   "metadata": {},
   "outputs": [
    {
     "name": "stdout",
     "output_type": "stream",
     "text": [
      "3A:\n",
      "[('44', '70'), ('44', '59'), ('15', '70'), ('15', '27'), ('15', '35'), ('15', '67'), ('60', '62'), ('32', '9'), ('33', '7'), ('33', '63'), ('33', '3'), ('33', '17'), ('33', '69'), ('57', '25'), ('56', '47'), ('56', '30'), ('56', '2'), ('56', '25'), ('41', '24'), ('41', '38'), ('41', '71'), ('41', '64'), ('16', '62'), ('19', '53'), ('19', '6'), ('19', '38'), ('19', '64'), ('4', '13'), ('4', '10'), ('4', '5'), ('4', '18'), ('4', '66'), ('4', '61'), ('43', '37'), ('43', '31'), ('43', '48'), ('3', '69'), ('3', '7'), ('10', '54'), ('28', '23'), ('31', '37'), ('31', '48'), ('46', '9'), ('46', '51'), ('51', '9'), ('51', '24'), ('51', '39'), ('45', '2'), ('45', '25'), ('14', '65'), ('1', '58'), ('64', '73'), ('64', '49'), ('5', '13'), ('5', '66'), ('5', '18'), ('70', '0'), ('70', '38'), ('70', '35'), ('70', '8'), ('70', '20'), ('70', '67'), ('42', '18'), ('17', '69'), ('17', '7'), ('30', '2'), ('20', '8'), ('20', '68'), ('20', '35'), ('58', '68'), ('39', '9'), ('39', '12'), ('39', '24'), ('9', '27'), ('9', '12'), ('9', '24'), ('9', '40'), ('9', '71'), ('63', '69'), ('63', '7'), ('25', '47'), ('25', '2'), ('67', '6'), ('67', '35'), ('37', '52'), ('37', '48'), ('38', '53'), ('38', '6'), ('21', '7'), ('73', '49'), ('73', '72'), ('55', '50'), ('72', '49'), ('68', '29'), ('24', '12'), ('24', '71'), ('36', '6'), ('18', '66'), ('18', '13'), ('2', '34'), ('7', '69'), ('47', '11'), ('47', '49'), ('12', '22'), ('12', '65'), ('49', '11'), ('66', '13'), ('61', '13'), ('53', '6')]\n",
      "3B1:\n",
      "\tnodes: 73\n",
      "3B2:\n",
      "\tedge:109 \n",
      "3B3:\n",
      "\tavg. deg: 2.9863013698630136\n",
      "3B4. ??\t\n",
      "3B5:\n",
      "\tlargest component size:  70\n",
      "3C:\n",
      "\t 0.04147640791476408\n",
      "3D:\n",
      "\n",
      "[2, 4, 1, 1, 5, 1, 4, 4, 1, 1, 4, 6, 3, 3, 2, 1, 3, 2, 4, 2, 1, 1, 4, 4, 8, 1, 1, 3, 2, 4, 2, 4, 9, 1, 3, 5, 4, 4, 2, 5, 2, 1, 1, 3, 1, 1, 2, 3, 6, 1, 5, 5, 1, 3, 6, 4, 5, 5, 1, 3, 4, 2, 2, 5, 1, 4, 3, 2, 2, 1, 5, 5, 1]\n"
     ]
    },
    {
     "name": "stderr",
     "output_type": "stream",
     "text": [
      "/usr/lib/python3/dist-packages/matplotlib/__init__.py:894: UserWarning: axes.color_cycle is deprecated and replaced with axes.prop_cycle; please use the latter.\n",
      "  warnings.warn(self.msg_depr % (key, alt_key))\n"
     ]
    },
    {
     "data": {
      "image/png": "[encoded data removed]",
      "text/plain": [
       "<matplotlib.figure.Figure at 0x7f6184c26da0>"
      ]
     },
     "metadata": {},
     "output_type": "display_data"
    },
    {
     "name": "stdout",
     "output_type": "stream",
     "text": [
      "3E:\n",
      "\tTriangles:  52.0\n"
     ]
    }
   ],
   "source": [
    "from networkie.utils.Measures import compute_num_triangles \n",
    "import networkx as nx\n",
    "\n",
    "from networkie.gen.Custom import LoadFromFile as lf\n",
    "from networkie.utils.Measures import Node \n",
    "\n",
    "import pandas as pd\n",
    "import seaborn as sns\n",
    "import matplotlib.pyplot as plt\n",
    "\n",
    "\n",
    "print(\"3A:\")\n",
    "L = lf()\n",
    "G = L.from_in_class_network()\n",
    "print(G.edges())\n",
    "\n",
    "\n",
    "\n",
    "print(\"3B1:\")\n",
    "print(\"\\tnodes:\" , G.number_of_nodes())  # Ex3-2 : 73\n",
    "print(\"3B2:\")\n",
    "print(\"\\tedge:%d \"%(G.number_of_edges()))  # Ex3-2 : 109\n",
    "deg_ctr = 0\n",
    "for i in G.nodes:\n",
    "    deg_ctr = deg_ctr + G.degree(i)\n",
    "print(\"3B3:\")\n",
    "print(\"\\tavg. deg:\",deg_ctr/G.number_of_nodes()) #Ex3-2 :2.986 \n",
    "Gc = max(nx.connected_component_subgraphs(G), key=len)\n",
    "print(\"3B4. ??\\t\")\n",
    "print(\"3B5:\")\n",
    "print(\"\\tlargest component size: \",Gc.size())   #Ex3-2 :70\n",
    "print(\"3C:\")\n",
    "N = G.number_of_nodes()\n",
    "E_max = N*(N-1)/2\n",
    "print(\"\\t\",G.number_of_edges()/E_max)\n",
    "\n",
    "\n",
    "\n",
    "print(\"3D:\\n\")\n",
    "node = Node()\n",
    "deg = []\n",
    "idx = []\n",
    "print(node.degree_dist(G))\n",
    "deg = node.degree_dist(G)\n",
    "for i in G.nodes:\n",
    "    idx.append(i)\n",
    "data_dict={\n",
    "    \"deg\":deg,\n",
    "    \"idx\":idx  \n",
    "    }\n",
    "df = pd.DataFrame(data_dict,index=deg)\n",
    "\n",
    "sns.barplot(x=\"idx\",y=\"deg\",data=df)\n",
    "plt.show()\n",
    "\n",
    "print(\"3E:\")\n",
    "compute_num_triangles(G)\n",
    "\n",
    "\n"
   ]
  },
  {
   "cell_type": "code",
   "execution_count": null,
   "metadata": {},
   "outputs": [],
   "source": []
  }
 ],
 "metadata": {
  "kernelspec": {
   "display_name": "Python 3",
   "language": "python",
   "name": "python3"
  },
  "language_info": {
   "codemirror_mode": {
    "name": "ipython",
    "version": 3
   },
   "file_extension": ".py",
   "mimetype": "text/x-python",
   "name": "python",
   "nbconvert_exporter": "python",
   "pygments_lexer": "ipython3",
   "version": "3.5.2"
  }
 },
 "nbformat": 4,
 "nbformat_minor": 2
}
