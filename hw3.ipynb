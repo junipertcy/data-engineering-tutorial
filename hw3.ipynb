{
 "cells": [
  {
   "cell_type": "markdown",
   "metadata": {},
   "source": [
    "# Overview\n",
    "* [moudules](#moudule)\n",
    "* [Prob.1 & Prob.2]($H24056087.pdf)\n",
    "* [Prob.3](#prob3)\n",
    "   * [3.a](#3a) [sourcecode](networkie/gen/Custom.py)\n",
    "   * [3.b](#3b)\n",
    "   * [3.c](#3c)\n",
    "   * [3.d](#3d) [sourcecode](networkie/utils/Measures.py)\n",
    "   * [3.e](#3e)\n",
    "* [Prob.4](#prob4)\n",
    "   * [Doc. 3-a](#prob4)\n",
    "   * [Doc. 3-d](#prob4)\n",
    "   * [Doc. 3-e](#prob4)\n",
    "* [Prob.5](tests/test_compute_degrees.py)\n",
    "* [Prob.6](#prob6)\n",
    "   * [recommendation](#rec)\n",
    "   * [Difference after repairing](#repair)"
   ]
  },
  {
   "cell_type": "markdown",
   "metadata": {},
   "source": [
    "<a id='moudule'></a>\n",
    "### moudules"
   ]
  },
  {
   "cell_type": "code",
   "execution_count": 1,
   "metadata": {
    "scrolled": true
   },
   "outputs": [
    {
     "name": "stdout",
     "output_type": "stream",
     "text": [
      "Populating the interactive namespace from numpy and matplotlib\n"
     ]
    }
   ],
   "source": [
    "%pylab inline\n",
    "\n",
    "import heapq\n",
    "import networkx as nx\n",
    "import random as rd\n",
    "\n",
    "from networkie.gen.Custom import LoadFromFile\n",
    "from networkie.utils import Measures"
   ]
  },
  {
   "cell_type": "markdown",
   "metadata": {},
   "source": [
    "<a id='prob3'></a>\n",
    "<a id='3a'></a>\n",
    "## 3 (a)"
   ]
  },
  {
   "cell_type": "code",
   "execution_count": 2,
   "metadata": {
    "scrolled": false
   },
   "outputs": [
    {
     "data": {
      "text/plain": [
       "True"
      ]
     },
     "execution_count": 2,
     "metadata": {},
     "output_type": "execute_result"
    }
   ],
   "source": [
    "G = LoadFromFile().from_in_class_network('dataset/In-class_network.txt', directed=True)\n",
    "isinstance(G, nx.DiGraph)"
   ]
  },
  {
   "cell_type": "markdown",
   "metadata": {},
   "source": [
    "<a id='3b'></a>\n",
    "## 3 (b)"
   ]
  },
  {
   "cell_type": "code",
   "execution_count": 12,
   "metadata": {
    "scrolled": false
   },
   "outputs": [
    {
     "name": "stdout",
     "output_type": "stream",
     "text": [
      "Name: In-class network\n",
      "Type: Graph\n",
      "Number of nodes: 75\n",
      "Number of edges: 109\n",
      "Average degree:   2.9067\n",
      "Average path length: 4.508474576271187\n",
      "Size of largest connected component: 45\n"
     ]
    }
   ],
   "source": [
    "G = G.to_undirected()\n",
    "G.name = 'In-class network'\n",
    "print(nx.info(G))\n",
    "components = [ G.subgraph(nodes) for nodes in nx.connected_components(G) ]\n",
    "num_of_nodes = np.array([ g.order() for g in components ])\n",
    "num_of_shortest_path = num_of_nodes*(num_of_nodes-1)\n",
    "avg_shortest_path = np.array([nx.average_shortest_path_length(g)\n",
    "                                    for g in components])\n",
    "avg = (avg_shortest_path*num_of_shortest_path).sum()/num_of_shortest_path.sum()\n",
    "print('Average path length:', avg)\n",
    "print('Size of largest connected component:', max(num_of_nodes))"
   ]
  },
  {
   "cell_type": "markdown",
   "metadata": {},
   "source": [
    "<a id='3c'></a>\n",
    "## 3 (c)"
   ]
  },
  {
   "cell_type": "code",
   "execution_count": 4,
   "metadata": {},
   "outputs": [
    {
     "name": "stdout",
     "output_type": "stream",
     "text": [
      "e / emax: 0.03927927927927928\n"
     ]
    }
   ],
   "source": [
    "emax = G.order()*(G.order()-1)//2\n",
    "print('e / emax:', G.size()/emax)"
   ]
  },
  {
   "cell_type": "markdown",
   "metadata": {},
   "source": [
    "<a id='3d'></a>\n",
    "## 3 (d)"
   ]
  },
  {
   "cell_type": "code",
   "execution_count": 5,
   "metadata": {},
   "outputs": [],
   "source": [
    "list_of_degree = Measures.Node(G).degree_dist()"
   ]
  },
  {
   "cell_type": "code",
   "execution_count": 6,
   "metadata": {},
   "outputs": [
    {
     "data": {
      "text/plain": [
       "<BarContainer object of 10 artists>"
      ]
     },
     "execution_count": 6,
     "metadata": {},
     "output_type": "execute_result"
    },
    {
     "data": {
      "image/png": "[encoded data removed]",
      "text/plain": [
       "<Figure size 432x288 with 1 Axes>"
      ]
     },
     "metadata": {},
     "output_type": "display_data"
    }
   ],
   "source": [
    "l = [0]*(1+max(list_of_degree))\n",
    "for d in list_of_degree:\n",
    "    l[d] += 1\n",
    "plt.bar(range(len(l)), l, tick_label=range(len(l)))"
   ]
  },
  {
   "cell_type": "markdown",
   "metadata": {},
   "source": [
    "<a id='3e'></a>\n",
    "## 3 (e)"
   ]
  },
  {
   "cell_type": "code",
   "execution_count": 7,
   "metadata": {
    "scrolled": true
   },
   "outputs": [
    {
     "data": {
      "text/plain": [
       "52"
      ]
     },
     "execution_count": 7,
     "metadata": {},
     "output_type": "execute_result"
    }
   ],
   "source": [
    "Measures.compute_num_triangles(G)"
   ]
  },
  {
   "cell_type": "markdown",
   "metadata": {},
   "source": [
    "<a id='prob4'></a>\n",
    "## 4"
   ]
  },
  {
   "cell_type": "code",
   "execution_count": 8,
   "metadata": {},
   "outputs": [
    {
     "name": "stdout",
     "output_type": "stream",
     "text": [
      "======== LoadFromFile document ===========================\n",
      "\n",
      "Help on function from_in_class_network in module networkie.gen.Custom:\n",
      "\n",
      "from_in_class_network(self, filename='dataset/In-class_network.txt', fillna='unknown', directed=False)\n",
      "    read graph from csv file\n",
      "    \n",
      "    Parameters\n",
      "    ----------\n",
      "    filename : `str`, default 'In-class_network.txt', pathlib.Path\n",
      "    fillna : `object`, default 'unknown', fill missing values of attributes\n",
      "    directed : `bool`, default False, determine whether it's Graph or DiGraph\n",
      "    \n",
      "    Returns\n",
      "    -------\n",
      "    G: `networkx.DiGraph` object if directed is True\n",
      "       else return `networkx.Graph`.\n",
      "\n",
      "======== degree_dist document ============================\n",
      "\n",
      "Help on function degree_dist in module networkie.utils.Measures:\n",
      "\n",
      "degree_dist(self)\n",
      "    list of degree\n",
      "\n",
      "======== compute_num_triangles document ==================\n",
      "\n",
      "Help on function compute_num_triangles in module networkie.utils.Measures:\n",
      "\n",
      "compute_num_triangles(G)\n",
      "    see function `triangles`\n",
      "\n",
      "======== details =========================================\n",
      "\n",
      "Help on function triangles in module networkie.utils.Measures:\n",
      "\n",
      "triangles(G)\n",
      "    find all triangle of a graph by BFS, \n",
      "    triangle located between n and n+1 level of BFS tree, \n",
      "    check tie between nodes at same level, found thier neighbor in common\n",
      "    \n",
      "    Parameter\n",
      "    ---------\n",
      "    G : networkx graph object, could be either directed or not,\n",
      "        this function turn G to undirected and find triangle.\n",
      "    \n",
      "    Yeilds\n",
      "    ------\n",
      "    generator types\n",
      "    yeild tuples. ex: (3, 4, 5) where 3, 4, 5 are name of nodes\n",
      "\n"
     ]
    }
   ],
   "source": [
    "print('======== LoadFromFile document ===========================\\n')\n",
    "help(LoadFromFile.from_in_class_network)\n",
    "print('======== degree_dist document ============================\\n')\n",
    "help(Measures.Node.degree_dist)\n",
    "print('======== compute_num_triangles document ==================\\n')\n",
    "help(Measures.compute_num_triangles)\n",
    "print('======== details =========================================\\n')\n",
    "help(Measures.triangles)"
   ]
  },
  {
   "cell_type": "markdown",
   "metadata": {},
   "source": [
    "<a id='prob6'></a>\n",
    "## 6"
   ]
  },
  {
   "cell_type": "code",
   "execution_count": 9,
   "metadata": {},
   "outputs": [],
   "source": [
    "class Recommendation:\n",
    "\n",
    "    def __init__(self, G, copy=True):\n",
    "        self.g = G.copy() if copy else G\n",
    "        self.potential = [set() for i in range(self.g.order())]\n",
    "        self.update(range(self.g.order()))\n",
    "    \n",
    "    def update(self, node_list=None):\n",
    "        if node_list is not None:\n",
    "            for node in node_list:\n",
    "                self.potential[node].clear()\n",
    "                self.potential_firend(node)\n",
    "        self.degree = np.array(Measures.Node(self.g).degree_dist())\n",
    "\n",
    "    def potential_firend(self, someone):\n",
    "        check = {someone} | set(self.g[someone])\n",
    "        for friend in self.g[someone]:\n",
    "            for friend_of_friend in self.g[friend]:\n",
    "                if friend_of_friend in check:\n",
    "                    continue\n",
    "                self.potential[someone].add(friend_of_friend)\n",
    "                check.add(friend_of_friend)\n",
    "        return self.potential[someone]\n",
    "\n",
    "    def friends_in_common(self, u, v):\n",
    "        return len(set(self.g[u]) & set(self.g[v]))\n",
    "    \n",
    "    def importance(self, u, v):\n",
    "        return self.degree[[u,v]].sum()\n",
    "\n",
    "    def recommend(self, node, n):\n",
    "        lis = [ ( -self.friends_in_common(ppl, node),\n",
    "                  -self.importance(ppl, node), ppl )\n",
    "                                  for ppl in self.potential[node] ]\n",
    "        heapq.heapify(lis)\n",
    "        for i in range(min(n, len(lis))):\n",
    "            yield heapq.heappop(lis)[2]\n",
    "\n",
    "    def remove_edge(self, ratio=0.05):\n",
    "        edges = rd.sample(self.g.edges, round(self.g.size()*ratio) )\n",
    "        self.g.remove_edges_from(edges)\n",
    "        self.update(range(self.g.order()))\n",
    "        return len(edges)\n",
    "    \n",
    "    def all_potential(self):\n",
    "        for i, set_i in enumerate(self.potential):\n",
    "            for n in set_i:\n",
    "                if i < n:\n",
    "                    yield (i, n)\n",
    "    \n",
    "    def add_recommend(self, n_run = 1):\n",
    "        for i in range(n_run):\n",
    "            edges = np.array(list(self.all_potential()))\n",
    "            in_common = np.array([self.friends_in_common(*e) for e in edges])\n",
    "            edges = edges[in_common == in_common.max()]\n",
    "            importance = self.degree[edges].sum(1)\n",
    "            edges = edges[importance == importance.max()]\n",
    "            u, v = rd.choice(edges)\n",
    "            self.g.add_edge(u, v)\n",
    "            self.update(set(self.g[u]) | set(self.g[v]))\n"
   ]
  },
  {
   "cell_type": "markdown",
   "metadata": {},
   "source": [
    "<a id='rec'></a>\n",
    "## Recommendation"
   ]
  },
  {
   "cell_type": "code",
   "execution_count": 10,
   "metadata": {},
   "outputs": [
    {
     "name": "stdout",
     "output_type": "stream",
     "text": [
      "Recommendation for student 45:  56 47 30\n"
     ]
    }
   ],
   "source": [
    "rec = Recommendation(G, copy=True)\n",
    "print('Recommendation for student 45: ', *rec.recommend(45, 3) )\n",
    "remove_n = rec.remove_edge(ratio=.05)\n",
    "rec.add_recommend(n_run=remove_n)"
   ]
  },
  {
   "cell_type": "markdown",
   "metadata": {},
   "source": [
    "<a id='repair'></a>\n",
    "## Difference after repairing"
   ]
  },
  {
   "cell_type": "code",
   "execution_count": 11,
   "metadata": {
    "scrolled": true
   },
   "outputs": [
    {
     "data": {
      "text/plain": [
       "EdgeView([(9, 41), (12, 24), (49, 73), (51, 46), (62, 16), (3, 63), (3, 17), (17, 63)])"
      ]
     },
     "execution_count": 11,
     "metadata": {},
     "output_type": "execute_result"
    }
   ],
   "source": [
    "nx.symmetric_difference(rec.g, G).edges\n",
    "# within 5 removed, 5 added back, most of them are different"
   ]
  }
 ],
 "metadata": {
  "kernelspec": {
   "display_name": "Python 3",
   "language": "python",
   "name": "python3"
  },
  "language_info": {
   "codemirror_mode": {
    "name": "ipython",
    "version": 3
   },
   "file_extension": ".py",
   "mimetype": "text/x-python",
   "name": "python",
   "nbconvert_exporter": "python",
   "pygments_lexer": "ipython3",
   "version": "3.6.5"
  }
 },
 "nbformat": 4,
 "nbformat_minor": 2
}
