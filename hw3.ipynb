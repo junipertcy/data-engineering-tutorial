{
 "cells": [
  {
   "cell_type": "code",
   "execution_count": 4,
   "metadata": {},
   "outputs": [],
   "source": [
    "#question3 (a)\n",
    "n='In-class network.txt'\n",
    "import networkx as nx\n",
    "import matplotlib.pyplot as plt\n",
    "import sys\n",
    "\n",
    "sys.path.append(r'D:\\Chauying\\Files\\Python\\GIT\\networkie\\networkie\\gen')\n",
    "sys.path.append(r'D:\\Chauying\\Files\\Python\\GIT\\networkie\\networkie\\utils')\n",
    "import Custom as Cs\n",
    "import Measures as Mes\n",
    "\n",
    "g=Cs.LoadFromFile(n).from_in_class_network()\n"
   ]
  },
  {
   "cell_type": "code",
   "execution_count": 2,
   "metadata": {
    "scrolled": true
   },
   "outputs": [
    {
     "name": "stdout",
     "output_type": "stream",
     "text": [
      "the number of nodes: 75\n",
      "the number of edges: 109\n",
      "average degree: 2.9066666666666667\n",
      "average path length: 1.7254054054054053\n",
      "the size of the largest connected component: 45\n"
     ]
    }
   ],
   "source": [
    "#question3 (b)\n",
    "nodes_total=len(list(g.nodes()))\n",
    "edges_total=len(list(g.edges()))\n",
    "degree_total=0\n",
    "for i in list(g.nodes()):\n",
    "    degree_total+=g.degree(i)\n",
    "degree_mean=degree_total/nodes_total\n",
    "total_length,number=0,0\n",
    "for i in range(len(g.nodes())):\n",
    "    l=list(range(len(list(g.nodes()))))[i+1:]\n",
    "    for j in l:\n",
    "        number+=1\n",
    "        if nx.has_path(g,i,j):\n",
    "            total_length+=(len(nx.shortest_path(g,source=i,target=j))-1)\n",
    "mean_length=total_length/number\n",
    "m=0\n",
    "for i in list(nx.connected_components(g)):\n",
    "    if len(i)>=m:\n",
    "        m=len(i)\n",
    "\n",
    "print('the number of nodes:',nodes_total)\n",
    "print('the number of edges:',edges_total)\n",
    "print('average degree:',degree_mean)\n",
    "print('average path length:',mean_length)\n",
    "print('the size of the largest connected component:',m)\n"
   ]
  },
  {
   "cell_type": "code",
   "execution_count": 3,
   "metadata": {},
   "outputs": [
    {
     "name": "stdout",
     "output_type": "stream",
     "text": [
      "e/e_max: 0.03927927927927928\n"
     ]
    }
   ],
   "source": [
    "#question3 (c)\n",
    "e_max=75*74/2\n",
    "print('e/e_max:',edges_total/e_max)\n"
   ]
  },
  {
   "cell_type": "code",
   "execution_count": 4,
   "metadata": {},
   "outputs": [
    {
     "name": "stdout",
     "output_type": "stream",
     "text": [
      "[1, 1, 5, 3, 6, 4, 5, 6, 2, 9, 2, 2, 5, 5, 1, 4, 1, 3, 5, 4, 4, 1, 1, 1, 6, 5, 0, 2, 1, 1, 2, 3, 1, 5, 1, 4, 1, 4, 5, 4, 1, 4, 1, 3, 2, 2, 2, 4, 3, 5, 1, 4, 1, 3, 1, 1, 4, 1, 2, 1, 1, 2, 2, 3, 4, 2, 4, 4, 3, 5, 8, 3, 2, 3, 0]\n"
     ]
    },
    {
     "data": {
      "image/png": "[encoded data removed]",
      "text/plain": [
       "<matplotlib.figure.Figure at 0xf44d2b0>"
      ]
     },
     "metadata": {},
     "output_type": "display_data"
    }
   ],
   "source": [
    "#question3 (d)\n",
    "\n",
    "vector_k=Mes.Node(g).degree_dist()\n",
    "print(vector_k)\n",
    "degree_d=[]\n",
    "count_d=[]\n",
    "for i in list(g.nodes()):\n",
    "    degree_d.append(g.degree(i))\n",
    "degree_d=sorted(degree_d)\n",
    "for i in list(set(degree_d)):\n",
    "    count_d.append(degree_d.count(i)/len(degree_d))\n",
    "plt.bar(list(set(degree_d)),count_d)\n",
    "plt.show()\n",
    "    \n",
    "    "
   ]
  },
  {
   "cell_type": "code",
   "execution_count": 3,
   "metadata": {},
   "outputs": [
    {
     "data": {
      "text/plain": [
       "52.0"
      ]
     },
     "execution_count": 3,
     "metadata": {},
     "output_type": "execute_result"
    }
   ],
   "source": [
    "#question3 (e)\n",
    "Mes.compute_num_triangles(g)\n",
    "                    \n"
   ]
  }
 ],
 "metadata": {
  "kernelspec": {
   "display_name": "Python 3",
   "language": "python",
   "name": "python3"
  },
  "language_info": {
   "codemirror_mode": {
    "name": "ipython",
    "version": 3
   },
   "file_extension": ".py",
   "mimetype": "text/x-python",
   "name": "python",
   "nbconvert_exporter": "python",
   "pygments_lexer": "ipython3",
   "version": "3.6.2"
  }
 },
 "nbformat": 4,
 "nbformat_minor": 2
}
