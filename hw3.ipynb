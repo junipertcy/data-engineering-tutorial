{
 "cells": [
  {
   "cell_type": "code",
   "execution_count": 7,
   "metadata": {
    "scrolled": true
   },
   "outputs": [
    {
     "ename": "NameError",
     "evalue": "name 'pd' is not defined",
     "output_type": "error",
     "traceback": [
      "\u001b[1;31m---------------------------------------------------------------------------\u001b[0m",
      "\u001b[1;31mNameError\u001b[0m                                 Traceback (most recent call last)",
      "\u001b[1;32m<ipython-input-7-10594ba74cdc>\u001b[0m in \u001b[0;36m<module>\u001b[1;34m()\u001b[0m\n\u001b[0;32m      3\u001b[0m \u001b[1;32mfrom\u001b[0m \u001b[0mnetworkie\u001b[0m\u001b[1;33m.\u001b[0m\u001b[0mgen\u001b[0m\u001b[1;33m.\u001b[0m\u001b[0mCustom\u001b[0m \u001b[1;32mimport\u001b[0m \u001b[0mLoadFromFile\u001b[0m\u001b[1;33m\u001b[0m\u001b[0m\n\u001b[0;32m      4\u001b[0m \u001b[0mc\u001b[0m \u001b[1;33m=\u001b[0m \u001b[0mLoadFromFile\u001b[0m\u001b[1;33m(\u001b[0m\u001b[1;33m)\u001b[0m\u001b[1;33m\u001b[0m\u001b[0m\n\u001b[1;32m----> 5\u001b[1;33m \u001b[0mg\u001b[0m \u001b[1;33m=\u001b[0m \u001b[0mc\u001b[0m\u001b[1;33m.\u001b[0m\u001b[0mfrom_in_class_network\u001b[0m\u001b[1;33m(\u001b[0m\u001b[1;34m'dataset/In-class_network.txt'\u001b[0m\u001b[1;33m)\u001b[0m\u001b[1;33m\u001b[0m\u001b[0m\n\u001b[0m\u001b[0;32m      6\u001b[0m \u001b[1;33m\u001b[0m\u001b[0m\n\u001b[0;32m      7\u001b[0m \u001b[1;32mfrom\u001b[0m \u001b[0mnetworkie\u001b[0m\u001b[1;33m.\u001b[0m\u001b[0mutils\u001b[0m\u001b[1;33m.\u001b[0m\u001b[0mMeasures\u001b[0m \u001b[1;32mimport\u001b[0m \u001b[0mNode\u001b[0m\u001b[1;33m\u001b[0m\u001b[0m\n",
      "\u001b[1;32mC:\\Python36\\workspace\\networkie\\networkie\\gen\\Custom.py\u001b[0m in \u001b[0;36mfrom_in_class_network\u001b[1;34m(self, r)\u001b[0m\n\u001b[0;32m     52\u001b[0m         '''\n\u001b[0;32m     53\u001b[0m         \u001b[0mdf\u001b[0m \u001b[1;33m=\u001b[0m \u001b[0mpd\u001b[0m\u001b[1;33m.\u001b[0m\u001b[0mread_csv\u001b[0m\u001b[1;33m(\u001b[0m\u001b[1;34m'In-class-network.txt'\u001b[0m\u001b[1;33m,\u001b[0m\u001b[0mdelimiter\u001b[0m \u001b[1;33m=\u001b[0m \u001b[1;34m'\\t'\u001b[0m\u001b[1;33m)\u001b[0m\u001b[1;33m\u001b[0m\u001b[0m\n\u001b[1;32m---> 54\u001b[1;33m         \u001b[0mID\u001b[0m \u001b[1;33m=\u001b[0m \u001b[0mdf\u001b[0m\u001b[1;33m[\u001b[0m\u001b[1;34m'ID'\u001b[0m\u001b[1;33m]\u001b[0m\u001b[1;33m\u001b[0m\u001b[0m\n\u001b[0m\u001b[0;32m     55\u001b[0m         \u001b[0ma\u001b[0m \u001b[1;33m=\u001b[0m \u001b[0mdf\u001b[0m\u001b[1;33m[\u001b[0m\u001b[1;34m'IDs-of-acquaintances'\u001b[0m\u001b[1;33m]\u001b[0m\u001b[1;33m\u001b[0m\u001b[0m\n\u001b[0;32m     56\u001b[0m \u001b[1;33m\u001b[0m\u001b[0m\n",
      "\u001b[1;31mNameError\u001b[0m: name 'pd' is not defined"
     ]
    }
   ],
   "source": [
    "import pandas as pd\n",
    "\n",
    "from networkie.gen.Custom import LoadFromFile\n",
    "c = LoadFromFile()\n",
    "g = c.from_in_class_network('dataset/In-class_network.txt')\n",
    "\n",
    "from networkie.utils.Measures import Node\n",
    "d = Node()\n",
    "d.degree_dist(g)\n",
    "\n",
    "#3.(b-1)---------------------------------\n",
    "print('nodes :',g.order())\n",
    "\n",
    "#3.(b-2)---------------------------------\n",
    "print('edges :',g.size())\n",
    "\n",
    "#3.(b-3)---------------------------------\n",
    "print('average degree :',g.size()*2/g.order())\n",
    "\n",
    "#3.(b-4)---------------------------------\n",
    "path = 0\n",
    "n = 0\n",
    "for i in range(g.order()):\n",
    "    a = list(range(g.order()))[i+1:]\n",
    "    for j in a:\n",
    "        n += 1\n",
    "        if nx.has_path(g,i,j):\n",
    "            path += nx.shortest_path_length(g,i,j)\n",
    "ave_path_length = path/n\n",
    "print('average path length :',ave_path_length)\n",
    "\n",
    "#3.(b-5)---------------------------------\n",
    "cc = len(list(max(nx.connected_components(g))))\n",
    "print('nG :',cc)\n",
    "\n",
    "#3.(c)---------------------------------\n",
    "emax = (75*74)/2\n",
    "print('e/emax :',g.size()/emax)"
   ]
  },
  {
   "cell_type": "code",
   "execution_count": null,
   "metadata": {},
   "outputs": [],
   "source": []
  }
 ],
 "metadata": {
  "kernelspec": {
   "display_name": "Python 3",
   "language": "python",
   "name": "python3"
  },
  "language_info": {
   "codemirror_mode": {
    "name": "ipython",
    "version": 3
   },
   "file_extension": ".py",
   "mimetype": "text/x-python",
   "name": "python",
   "nbconvert_exporter": "python",
   "pygments_lexer": "ipython3",
   "version": "3.6.4"
  }
 },
 "nbformat": 4,
 "nbformat_minor": 2
}
