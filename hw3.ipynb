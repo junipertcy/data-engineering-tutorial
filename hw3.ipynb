{
 "cells": [
  {
   "cell_type": "code",
   "execution_count": 1,
   "metadata": {},
   "outputs": [],
   "source": [
    "import matplotlib.pyplot as plt\n",
    "import networkx as nx\n",
    "import numpy as np\n",
    "import pandas as pd"
   ]
  },
  {
   "cell_type": "code",
   "execution_count": 2,
   "metadata": {
    "scrolled": true
   },
   "outputs": [],
   "source": [
    "#read file\n",
    "one = []\n",
    "with open(\"In-class_network.txt\",\"r\") as f:\n",
    "    for line in f:\n",
    "        line = line.strip().split(\"\\t\")\n",
    "        one.append(line)\n",
    "one=pd.DataFrame(one[1:],columns=one[0])"
   ]
  },
  {
   "cell_type": "code",
   "execution_count": 3,
   "metadata": {},
   "outputs": [
    {
     "data": {
      "text/html": [
       "<div>\n",
       "<style scoped>\n",
       "    .dataframe tbody tr th:only-of-type {\n",
       "        vertical-align: middle;\n",
       "    }\n",
       "\n",
       "    .dataframe tbody tr th {\n",
       "        vertical-align: top;\n",
       "    }\n",
       "\n",
       "    .dataframe thead th {\n",
       "        text-align: right;\n",
       "    }\n",
       "</style>\n",
       "<table border=\"1\" class=\"dataframe\">\n",
       "  <thead>\n",
       "    <tr style=\"text-align: right;\">\n",
       "      <th></th>\n",
       "      <th>ID</th>\n",
       "      <th>IDs-of-acquaintances</th>\n",
       "      <th>sex</th>\n",
       "      <th>age</th>\n",
       "      <th>department</th>\n",
       "      <th>time-to-bed</th>\n",
       "    </tr>\n",
       "  </thead>\n",
       "  <tbody>\n",
       "    <tr>\n",
       "      <th>0</th>\n",
       "      <td>1</td>\n",
       "      <td>58</td>\n",
       "      <td>m</td>\n",
       "      <td>21</td>\n",
       "      <td>phys</td>\n",
       "      <td>after-0</td>\n",
       "    </tr>\n",
       "    <tr>\n",
       "      <th>1</th>\n",
       "      <td>2</td>\n",
       "      <td>56,34,25</td>\n",
       "      <td>f</td>\n",
       "      <td>18</td>\n",
       "      <td>stat</td>\n",
       "      <td>after-0</td>\n",
       "    </tr>\n",
       "    <tr>\n",
       "      <th>2</th>\n",
       "      <td>4</td>\n",
       "      <td>13,18,66,61,5,10</td>\n",
       "      <td>m</td>\n",
       "      <td>19</td>\n",
       "      <td>stat</td>\n",
       "      <td>after-0</td>\n",
       "    </tr>\n",
       "    <tr>\n",
       "      <th>3</th>\n",
       "      <td>5</td>\n",
       "      <td>66,13,18</td>\n",
       "      <td>m</td>\n",
       "      <td>18</td>\n",
       "      <td>stat</td>\n",
       "      <td>after-0</td>\n",
       "    </tr>\n",
       "    <tr>\n",
       "      <th>4</th>\n",
       "      <td>6</td>\n",
       "      <td>19,53,38</td>\n",
       "      <td>m</td>\n",
       "      <td>20</td>\n",
       "      <td>stat</td>\n",
       "      <td>after-0</td>\n",
       "    </tr>\n",
       "  </tbody>\n",
       "</table>\n",
       "</div>"
      ],
      "text/plain": [
       "  ID IDs-of-acquaintances sex age department time-to-bed\n",
       "0  1                   58   m  21       phys     after-0\n",
       "1  2             56,34,25   f  18       stat     after-0\n",
       "2  4     13,18,66,61,5,10   m  19       stat     after-0\n",
       "3  5             66,13,18   m  18       stat     after-0\n",
       "4  6             19,53,38   m  20       stat     after-0"
      ]
     },
     "execution_count": 3,
     "metadata": {},
     "output_type": "execute_result"
    }
   ],
   "source": [
    "one.head()"
   ]
  },
  {
   "cell_type": "code",
   "execution_count": 4,
   "metadata": {},
   "outputs": [],
   "source": [
    "#區分nodes和edges\n",
    "ID=[]\n",
    "ID_node=[]\n",
    "for i in range(len(one)):\n",
    "    if one[\"IDs-of-acquaintances\"][i]==\" \":\n",
    "        ID_node.append(int(one[\"ID\"][i]))\n",
    "    if one[\"IDs-of-acquaintances\"][i]!=\" \":    \n",
    "        ID.append(one[\"ID\"][i])\n",
    "        ID.append(one[\"IDs-of-acquaintances\"][i])\n",
    "\n",
    "for i in range(1,len(ID),2):\n",
    "    ID[i]=ID[i].split(\",\")\n",
    "\n",
    "number=[]\n",
    "for j in range(1,len(ID),2):\n",
    "    for k in range(len(ID[j])):\n",
    "        number.append((int(ID[j-1]),int(ID[j][k])))"
   ]
  },
  {
   "cell_type": "code",
   "execution_count": 6,
   "metadata": {
    "scrolled": true
   },
   "outputs": [
    {
     "data": {
      "image/png": "[encoded data removed]",
      "text/plain": [
       "<Figure size 432x288 with 1 Axes>"
      ]
     },
     "metadata": {},
     "output_type": "display_data"
    }
   ],
   "source": [
    "#把nodes和edges加到Ｇ裡面\n",
    "G=nx.Graph()\n",
    "G.add_nodes_from(ID_node)\n",
    "G.add_edges_from(number)\n",
    "\n",
    "#draw\n",
    "def draw_graph(G):\n",
    "    nx.draw(G, node_color = '#00BBFF', node_size = 20, with_labels = False)\n",
    "    plt.show()\n",
    "draw_graph(G)    #3(a)"
   ]
  },
  {
   "cell_type": "code",
   "execution_count": 7,
   "metadata": {},
   "outputs": [
    {
     "data": {
      "text/plain": [
       "56"
      ]
     },
     "execution_count": 7,
     "metadata": {},
     "output_type": "execute_result"
    }
   ],
   "source": [
    "#ID length\n",
    "len(one[\"ID\"]) #3(b)i"
   ]
  },
  {
   "cell_type": "code",
   "execution_count": 8,
   "metadata": {},
   "outputs": [
    {
     "data": {
      "text/plain": [
       "109"
      ]
     },
     "execution_count": 8,
     "metadata": {},
     "output_type": "execute_result"
    }
   ],
   "source": [
    "#G size\n",
    "G.size()  #3(b)ii"
   ]
  },
  {
   "cell_type": "code",
   "execution_count": 9,
   "metadata": {},
   "outputs": [
    {
     "data": {
      "text/plain": [
       "2.9066666666666667"
      ]
     },
     "execution_count": 9,
     "metadata": {},
     "output_type": "execute_result"
    }
   ],
   "source": [
    "#averange degree\n",
    "avg_degree = np.mean(list(dict(G.degree()).values()))\n",
    "avg_degree #3(b)iii"
   ]
  },
  {
   "cell_type": "code",
   "execution_count": 10,
   "metadata": {},
   "outputs": [
    {
     "data": {
      "text/plain": [
       "45"
      ]
     },
     "execution_count": 10,
     "metadata": {},
     "output_type": "execute_result"
    }
   ],
   "source": [
    "#the size of the largest connected component\n",
    "largest_cc = max(nx.connected_components(G), key=len)\n",
    "len(largest_cc)   #3(b)v"
   ]
  },
  {
   "cell_type": "code",
   "execution_count": 11,
   "metadata": {},
   "outputs": [
    {
     "name": "stdout",
     "output_type": "stream",
     "text": [
      "0.07077922077922078\n"
     ]
    }
   ],
   "source": [
    "#e/emax\n",
    "e_max=(len(one[\"ID\"])*(len(one[\"ID\"])-1))/2\n",
    "e_division_emax=G.size()/e_max\n",
    "print(e_division_emax)  #3(c)"
   ]
  },
  {
   "cell_type": "code",
   "execution_count": 12,
   "metadata": {
    "scrolled": true
   },
   "outputs": [
    {
     "data": {
      "image/png": "[encoded data removed]",
      "text/plain": [
       "<Figure size 432x288 with 1 Axes>"
      ]
     },
     "metadata": {},
     "output_type": "display_data"
    }
   ],
   "source": [
    "def degree_distributions(G):\n",
    "    #個別的degree\n",
    "    G_degree=[]\n",
    "    for i in range(len(G.degree())):\n",
    "        G_degree.append(G.degree()[i])\n",
    "    #按照大小排列degree 還有算出有幾個\n",
    "    G_degree_count=[]\n",
    "    for i in range(len(sorted(G_degree))):\n",
    "        G_degree_count.append((sorted(G_degree)[i],G_degree.count(sorted(G_degree)[i])))\n",
    "\n",
    "    G_degree_count=pd.DataFrame(list(set(G_degree_count)))\n",
    "    G_degree_count[2]=G_degree_count[1]/sum(G_degree_count[1])\n",
    "    #draw\n",
    "    plt.bar(G_degree_count[0],G_degree_count[2])\n",
    "    plt.title(\"degree distributions\")\n",
    "    plt.xlabel(\"degree,k\")\n",
    "    plt.ylabel(\"Pr(k)\")\n",
    "    plt.show()\n",
    "degree_distributions(G)"
   ]
  },
  {
   "cell_type": "code",
   "execution_count": 13,
   "metadata": {},
   "outputs": [
    {
     "data": {
      "text/plain": [
       "52.0"
      ]
     },
     "execution_count": 13,
     "metadata": {},
     "output_type": "execute_result"
    }
   ],
   "source": [
    "#算出有幾個三角形\n",
    "tri = nx.triangles(G)\n",
    "sum(tri.values())/3  #3(e)"
   ]
  }
 ],
 "metadata": {
  "kernelspec": {
   "display_name": "Python 3",
   "language": "python",
   "name": "python3"
  },
  "language_info": {
   "codemirror_mode": {
    "name": "ipython",
    "version": 3
   },
   "file_extension": ".py",
   "mimetype": "text/x-python",
   "name": "python",
   "nbconvert_exporter": "python",
   "pygments_lexer": "ipython3",
   "version": "3.5.2"
  }
 },
 "nbformat": 4,
 "nbformat_minor": 2
}
