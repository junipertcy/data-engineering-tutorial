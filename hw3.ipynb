{
 "cells": [
  {
   "cell_type": "code",
   "execution_count": 9,
   "metadata": {},
   "outputs": [],
   "source": [
    "import networkx as nx\n",
    "import pandas as pd\n",
    "import numpy as np\n",
    "import matplotlib.pyplot as plt\n",
    "from pandas import DataFrame as df"
   ]
  },
  {
   "cell_type": "code",
   "execution_count": 90,
   "metadata": {
    "scrolled": false
   },
   "outputs": [
    {
     "name": "stdout",
     "output_type": "stream",
     "text": [
      "[(1, 58), (2, 56), (2, 34), (2, 25), (4, 13), (4, 18), (4, 66), (4, 61), (4, 5), (4, 10), (5, 66), (5, 13), (5, 18), (6, 19), (6, 53), (6, 38), (7, 3), (7, 21), (7, 17), (7, 69), (7, 63), (8, 70), (8, 20), (9, 40), (9, 51), (9, 39), (9, 32), (9, 46), (9, 27), (9, 71), (9, 24), (12, 65), (12, 39), (12, 9), (12, 24), (12, 22), (13, 4), (13, 66), (13, 18), (13, 61), (15, 27), (15, 35), (15, 67), (15, 70), (18, 66), (18, 13), (18, 4), (18, 42), (19, 38), (19, 6), (19, 53), (19, 64), (20, 35), (20, 68), (20, 70), (23, 28), (24, 71), (24, 39), (24, 51), (25, 2), (25, 56), (25, 57), (26, 100), (28, 23), (29, 68), (30, 2), (30, 56), (31, 48), (31, 43), (31, 37), (33, 17), (33, 69), (33, 63), (33, 7), (33, 3), (35, 67), (35, 70), (35, 20), (36, 6), (37, 52), (37, 43), (37, 48), (39, 51), (41, 64), (41, 38), (41, 71), (41, 24), (43, 48), (43, 37), (44, 59), (45, 25), (45, 2), (47, 11), (47, 56), (47, 25), (48, 43), (48, 31), (48, 37), (49, 73), (49, 72), (49, 64), (49, 11), (49, 47), (50, 55), (51, 39), (51, 46), (52, 37), (53, 19), (53, 6), (53, 38), (54, 10), (55, 50), (56, 2), (56, 30), (57, 100), (58, 68), (60, 62), (62, 16), (64, 73), (64, 49), (65, 14), (66, 100), (67, 35), (67, 6), (68, 58), (69, 63), (69, 17), (69, 3), (69, 7), (70, 35), (70, 20), (70, 38), (70, 67), (70, 0), (70, 44), (71, 24), (72, 100), (73, 49), (73, 72), (73, 64), (74, 100)]\n"
     ]
    }
   ],
   "source": [
    "df = pd.read_csv('In-Class_network.txt',sep = '\\t').iloc[0:,:-5]\n",
    "\n",
    "def from_in_class_network(G): #3a\n",
    "    nx.draw(G, node_color = '#00BBFF', node_size = 25)\n",
    "    plt.show()\n",
    "    \n",
    "idd = df['ID']\n",
    "ids = df['IDs-of-acquaintances']\n",
    "\n",
    "idss = []\n",
    "for i in range(len(ids)):\n",
    "    idss.append(ids[i].split(\",\"))\n",
    "\n",
    "idsss = []\n",
    "for i in range(len(idss)):\n",
    "    for j in range(len(idss[i])):\n",
    "        idsss.append(idss[i][j])\n",
    "\n",
    "nw = []\n",
    "for i in range(len(idsss)):\n",
    "    if idsss[i] == ' ':\n",
    "         nw.append(100)\n",
    "    else:\n",
    "         nw.append(int(idsss[i]))\n",
    "\n",
    "edge = []\n",
    "for i in range(len(idd)):\n",
    "    for j in range(len(ids[i].split(\",\"))):\n",
    "        edge.append([idd[i],ids.values[i].split(\",\")[j]])\n",
    "\n",
    "iddd = []\n",
    "for i in range(len(edge)):\n",
    "    iddd.append(edge[i][0])\n",
    "\n",
    "edge1 = []\n",
    "for i in range(len(iddd)):\n",
    "    edge1.append((iddd[i],nw[i]))\n",
    "print(edge1)"
   ]
  },
  {
   "cell_type": "code",
   "execution_count": 85,
   "metadata": {
    "scrolled": true
   },
   "outputs": [
    {
     "name": "stdout",
     "output_type": "stream",
     "text": [
      "75\n",
      "109\n",
      "2.9066666666666667\n",
      "25.333333333333332\n"
     ]
    }
   ],
   "source": [
    "G = nx.Graph()\n",
    "#G.add_nodes_from(edge1)\n",
    "G.add_edges_from(edge1)\n",
    "G.to_undirected()\n",
    "\n",
    "G.remove_node(100)\n",
    "print(G.order()) #3b(i)\n",
    "print(G.size()) #3b(ii)\n",
    "nod = list(G.nodes())\n",
    "\n",
    "nnodes = G.order()\n",
    "nedges = G.size()\n",
    "deg = G.degree()\n",
    "avgdeg = np.mean(list(dict(deg).values()))\n",
    "print(avgdeg) #3b(iii)\n",
    "\n",
    "H = nx.path_graph(G) #3b(iv)\n",
    "print(nx.average_shortest_path_length(H))"
   ]
  },
  {
   "cell_type": "code",
   "execution_count": 54,
   "metadata": {
    "scrolled": false
   },
   "outputs": [
    {
     "data": {
      "image/png": "[encoded data removed]",
      "text/plain": [
       "<matplotlib.figure.Figure at 0x12649412128>"
      ]
     },
     "metadata": {},
     "output_type": "display_data"
    }
   ],
   "source": [
    "from_in_class_network(G)"
   ]
  },
  {
   "cell_type": "code",
   "execution_count": 55,
   "metadata": {},
   "outputs": [
    {
     "name": "stdout",
     "output_type": "stream",
     "text": [
      "45\n"
     ]
    }
   ],
   "source": [
    "cc = nx.connected_components(G)\n",
    "lcc = max(nx.connected_components(G),key = len)\n",
    "print(len(lcc)) #3b(v)"
   ]
  },
  {
   "cell_type": "code",
   "execution_count": 87,
   "metadata": {
    "scrolled": true
   },
   "outputs": [
    {
     "name": "stdout",
     "output_type": "stream",
     "text": [
      "[1, 2, 5, 4, 1, 5, 6, 5, 5, 4, 2, 4, 2, 5, 4, 3, 5, 6, 3, 1, 3, 5, 3, 2, 8, 4, 9, 1, 4, 4, 1, 2, 2, 3, 6, 5, 2, 1, 4, 4, 4, 1, 4, 3, 1, 1, 1, 0, 1, 2, 3, 3, 3, 4, 5, 1, 1, 4, 2, 1, 2, 4, 2, 5, 3, 2, 1, 1, 1, 1, 2, 1, 1, 1, 0]\n"
     ]
    }
   ],
   "source": [
    "def degree_dist():     #3d\n",
    "        \n",
    "        k = []\n",
    "        for i in range(len(nod)):\n",
    "            k.append(G.degree(nod[i]))\n",
    "        \n",
    "        return k\n",
    "    \n",
    "k = degree_dist()\n",
    "print(k)"
   ]
  },
  {
   "cell_type": "code",
   "execution_count": 65,
   "metadata": {},
   "outputs": [
    {
     "name": "stdout",
     "output_type": "stream",
     "text": [
      "24.22222222222222\n"
     ]
    }
   ],
   "source": [
    "nG = sum(k)/max(k)\n",
    "print(nG) #3c"
   ]
  },
  {
   "cell_type": "code",
   "execution_count": 88,
   "metadata": {},
   "outputs": [
    {
     "data": {
      "text/plain": [
       "([array([2., 0., 0., 0., 0., 0., 0., 0., 0., 0.]),\n",
       "  array([1., 0., 0., 0., 0., 0., 0., 0., 1., 0.]),\n",
       "  array([2., 0., 0., 0., 0., 0., 0., 0., 0., 0.]),\n",
       "  array([1., 0., 0., 0., 0., 0., 0., 1., 0., 0.]),\n",
       "  array([1., 0., 0., 0., 1., 0., 0., 0., 0., 0.]),\n",
       "  array([1., 0., 0., 1., 0., 0., 0., 0., 0., 0.]),\n",
       "  array([2., 0., 0., 0., 0., 0., 0., 0., 0., 0.]),\n",
       "  array([1., 1., 0., 0., 0., 0., 0., 0., 0., 0.]),\n",
       "  array([1., 0., 1., 0., 0., 0., 0., 0., 0., 0.]),\n",
       "  array([1., 0., 0., 0., 0., 0., 0., 0., 0., 1.]),\n",
       "  array([1., 0., 0., 0., 0., 0., 0., 0., 1., 0.]),\n",
       "  array([2., 0., 0., 0., 0., 0., 0., 0., 0., 0.]),\n",
       "  array([1., 1., 0., 0., 0., 0., 0., 0., 0., 0.]),\n",
       "  array([2., 0., 0., 0., 0., 0., 0., 0., 0., 0.]),\n",
       "  array([1., 0., 1., 0., 0., 0., 0., 0., 0., 0.]),\n",
       "  array([1., 0., 0., 0., 0., 0., 0., 1., 0., 0.]),\n",
       "  array([1., 0., 0., 0., 0., 1., 0., 0., 0., 0.]),\n",
       "  array([2., 0., 0., 0., 0., 0., 0., 0., 0., 0.]),\n",
       "  array([2., 0., 0., 0., 0., 0., 0., 0., 0., 0.]),\n",
       "  array([1., 0., 1., 0., 0., 0., 0., 0., 0., 0.]),\n",
       "  array([1., 0., 1., 0., 0., 0., 0., 0., 0., 0.]),\n",
       "  array([1., 0., 0., 0., 0., 0., 0., 0., 0., 1.]),\n",
       "  array([1., 0., 0., 0., 0., 0., 0., 0., 1., 0.]),\n",
       "  array([1., 1., 0., 0., 0., 0., 0., 0., 0., 0.]),\n",
       "  array([1., 0., 0., 0., 0., 0., 0., 0., 0., 1.]),\n",
       "  array([1., 0., 1., 0., 0., 0., 0., 0., 0., 0.]),\n",
       "  array([1., 1., 0., 0., 0., 0., 0., 0., 0., 0.]),\n",
       "  array([1., 0., 0., 0., 0., 1., 0., 0., 0., 0.]),\n",
       "  array([1., 0., 0., 0., 0., 0., 0., 1., 0., 0.]),\n",
       "  array([1., 0., 0., 0., 0., 1., 0., 0., 0., 0.]),\n",
       "  array([1., 0., 0., 0., 1., 0., 0., 0., 0., 0.]),\n",
       "  array([1., 0., 0., 0., 0., 0., 1., 0., 0., 0.]),\n",
       "  array([1., 0., 0., 1., 0., 0., 0., 0., 0., 0.]),\n",
       "  array([1., 0., 0., 0., 0., 0., 0., 0., 0., 1.]),\n",
       "  array([1., 0., 0., 1., 0., 0., 0., 0., 0., 0.]),\n",
       "  array([1., 1., 0., 0., 0., 0., 0., 0., 0., 0.]),\n",
       "  array([1., 0., 0., 0., 0., 0., 0., 0., 0., 1.]),\n",
       "  array([1., 0., 0., 1., 0., 0., 0., 0., 0., 0.]),\n",
       "  array([1., 0., 1., 0., 0., 0., 0., 0., 0., 0.]),\n",
       "  array([1., 0., 0., 0., 1., 0., 0., 0., 0., 0.]),\n",
       "  array([1., 0., 0., 0., 0., 0., 0., 0., 0., 1.]),\n",
       "  array([1., 0., 0., 0., 0., 1., 0., 0., 0., 0.]),\n",
       "  array([1., 0., 0., 0., 0., 0., 0., 0., 0., 1.]),\n",
       "  array([1., 0., 0., 0., 0., 0., 0., 0., 0., 1.]),\n",
       "  array([1., 0., 0., 1., 0., 0., 0., 0., 0., 0.]),\n",
       "  array([1., 0., 0., 1., 0., 0., 0., 0., 0., 0.]),\n",
       "  array([1., 0., 0., 0., 0., 0., 0., 0., 1., 0.]),\n",
       "  array([1., 0., 0., 1., 0., 0., 0., 0., 0., 0.]),\n",
       "  array([1., 0., 0., 0., 1., 0., 0., 0., 0., 0.]),\n",
       "  array([1., 0., 0., 0., 1., 0., 0., 0., 0., 0.]),\n",
       "  array([1., 0., 0., 0., 1., 0., 0., 0., 0., 0.]),\n",
       "  array([1., 0., 0., 0., 0., 0., 1., 0., 0., 0.]),\n",
       "  array([1., 0., 0., 0., 0., 0., 1., 0., 0., 0.]),\n",
       "  array([1., 0., 0., 0., 0., 1., 0., 0., 0., 0.]),\n",
       "  array([1., 0., 0., 0., 1., 0., 0., 0., 0., 0.]),\n",
       "  array([1., 0., 0., 0., 0., 1., 0., 0., 0., 0.])],\n",
       " array([ 0. ,  7.1, 14.2, 21.3, 28.4, 35.5, 42.6, 49.7, 56.8, 63.9, 71. ]),\n",
       " <a list of 56 Lists of Patches objects>)"
      ]
     },
     "execution_count": 88,
     "metadata": {},
     "output_type": "execute_result"
    },
    {
     "data": {
      "image/png": "[encoded data removed]",
      "text/plain": [
       "<matplotlib.figure.Figure at 0x12647d9aef0>"
      ]
     },
     "metadata": {},
     "output_type": "display_data"
    }
   ],
   "source": [
    "lkp = [] #3d\n",
    "for i in range(len(k)):\n",
    "    lkp.append(k[i]/sum(k))\n",
    "\n",
    "pk = []\n",
    "for i in range(len(idd)):\n",
    "    pk.append((nod[i],lkp[i]))\n",
    "\n",
    "plt.hist(pk)"
   ]
  },
  {
   "cell_type": "code",
   "execution_count": 72,
   "metadata": {},
   "outputs": [
    {
     "data": {
      "text/plain": [
       "{0: 0,\n",
       " 1: 0,\n",
       " 2: 3,\n",
       " 3: 3,\n",
       " 4: 7,\n",
       " 5: 6,\n",
       " 6: 3,\n",
       " 7: 7,\n",
       " 8: 1,\n",
       " 9: 7,\n",
       " 10: 0,\n",
       " 11: 1,\n",
       " 12: 3,\n",
       " 13: 7,\n",
       " 14: 0,\n",
       " 15: 3,\n",
       " 16: 0,\n",
       " 17: 3,\n",
       " 18: 6,\n",
       " 19: 3,\n",
       " 20: 2,\n",
       " 21: 0,\n",
       " 22: 0,\n",
       " 23: 0,\n",
       " 24: 7,\n",
       " 25: 3,\n",
       " 26: 0,\n",
       " 27: 0,\n",
       " 28: 0,\n",
       " 29: 0,\n",
       " 30: 1,\n",
       " 31: 3,\n",
       " 32: 0,\n",
       " 33: 7,\n",
       " 34: 0,\n",
       " 35: 4,\n",
       " 36: 0,\n",
       " 37: 3,\n",
       " 38: 3,\n",
       " 39: 5,\n",
       " 40: 0,\n",
       " 41: 1,\n",
       " 42: 0,\n",
       " 43: 3,\n",
       " 44: 0,\n",
       " 45: 1,\n",
       " 46: 1,\n",
       " 47: 2,\n",
       " 48: 3,\n",
       " 49: 3,\n",
       " 50: 0,\n",
       " 51: 4,\n",
       " 52: 0,\n",
       " 53: 3,\n",
       " 54: 0,\n",
       " 55: 0,\n",
       " 56: 3,\n",
       " 57: 0,\n",
       " 58: 0,\n",
       " 59: 0,\n",
       " 60: 0,\n",
       " 61: 1,\n",
       " 62: 0,\n",
       " 63: 3,\n",
       " 64: 1,\n",
       " 65: 0,\n",
       " 66: 6,\n",
       " 67: 3,\n",
       " 68: 0,\n",
       " 69: 7,\n",
       " 70: 5,\n",
       " 71: 2,\n",
       " 72: 1,\n",
       " 73: 2,\n",
       " 74: 0}"
      ]
     },
     "execution_count": 72,
     "metadata": {},
     "output_type": "execute_result"
    }
   ],
   "source": [
    "def compute_num_triangles(a):  #3e\n",
    "    \n",
    "    tri = nx.triangles(a)\n",
    "    \n",
    "    return tri\n",
    "compute_num_triangles(G)"
   ]
  },
  {
   "cell_type": "code",
   "execution_count": null,
   "metadata": {},
   "outputs": [],
   "source": []
  }
 ],
 "metadata": {
  "kernelspec": {
   "display_name": "Python 3",
   "language": "python",
   "name": "python3"
  },
  "language_info": {
   "codemirror_mode": {
    "name": "ipython",
    "version": 3
   },
   "file_extension": ".py",
   "mimetype": "text/x-python",
   "name": "python",
   "nbconvert_exporter": "python",
   "pygments_lexer": "ipython3",
   "version": "3.6.4"
  }
 },
 "nbformat": 4,
 "nbformat_minor": 2
}
