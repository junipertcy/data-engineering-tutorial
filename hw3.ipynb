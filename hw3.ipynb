{
 "cells": [
  {
   "cell_type": "code",
   "execution_count": 1,
   "metadata": {},
   "outputs": [],
   "source": [
    "#import packages\n",
    "import networkx as nx\n",
    "import matplotlib.pyplot as plt\n",
    "import numpy as np\n",
    "import pandas as pd"
   ]
  },
  {
   "cell_type": "code",
   "execution_count": 2,
   "metadata": {},
   "outputs": [],
   "source": [
    "G=nx.Graph() #Create the graph"
   ]
  },
  {
   "cell_type": "code",
   "execution_count": 3,
   "metadata": {},
   "outputs": [],
   "source": [
    "#read the txt file into the python\n",
    "linelist,e,no=[],[],[]\n",
    "with open (\"In-class_network.txt\",\"r\") as F : \n",
    "    for line in F :\n",
    "        line=line.replace(\"\\t\",\".\").strip(\"\\n\").split(\".\")\n",
    "        linelist.append(line)\n",
    "    linelist=linelist[1:]\n",
    "    for i in range(len(linelist)):\n",
    "        linelist[i]=linelist[i][0:2]\n",
    "        linelist[i][0]=int(linelist[i][0])\n",
    "    for i in range(len(linelist)):\n",
    "        if linelist[i][1].count(\",\")>=1:\n",
    "            num=linelist[i][1].split(\",\")\n",
    "            for d in num :\n",
    "                e+=[(linelist[i][0],int(d))]\n",
    "        elif linelist[i][1]==\" \":\n",
    "            no+=[linelist[i][0]] #Create the node\n",
    "        else :\n",
    "            e+=[(linelist[i][0],int(linelist[i][1]))] #Create the edges"
   ]
  },
  {
   "cell_type": "code",
   "execution_count": 4,
   "metadata": {},
   "outputs": [
    {
     "data": {
      "image/png": "[encoded data removed]",
      "text/plain": [
       "<matplotlib.figure.Figure at 0x11329e2e8>"
      ]
     },
     "metadata": {},
     "output_type": "display_data"
    }
   ],
   "source": [
    "#3. (a)\n",
    "G.add_nodes_from(no) #Let the nodes and edges been written into graph\n",
    "G.add_edges_from(e)\n",
    "nx.draw(G,node_size=20) #Draw picture\n",
    "plt.show()"
   ]
  },
  {
   "cell_type": "code",
   "execution_count": 5,
   "metadata": {},
   "outputs": [
    {
     "data": {
      "text/plain": [
       "'Name: \\nType: Graph\\nNumber of nodes: 75\\nNumber of edges: 109\\nAverage degree:   2.9067'"
      ]
     },
     "execution_count": 5,
     "metadata": {},
     "output_type": "execute_result"
    }
   ],
   "source": [
    "#3. (b) show the information about graph\n",
    "nx.info(G) # (i): 75 , (ii): 109 , (iii): 2.9067"
   ]
  },
  {
   "cell_type": "code",
   "execution_count": 6,
   "metadata": {},
   "outputs": [
    {
     "data": {
      "text/plain": [
       "1.3965367965367967"
      ]
     },
     "execution_count": 6,
     "metadata": {},
     "output_type": "execute_result"
    }
   ],
   "source": [
    "#3. (c) count the average path length\n",
    "apl,n=0,0\n",
    "for i in nx.connected_components(G): #find the group \n",
    "    apl+=nx.average_shortest_path_length(nx.subgraph(G,i))\n",
    "    n+=1 \n",
    "apl=float(apl/n)\n",
    "apl # (iv): 1.39653"
   ]
  },
  {
   "cell_type": "code",
   "execution_count": 7,
   "metadata": {},
   "outputs": [
    {
     "data": {
      "text/plain": [
       "45"
      ]
     },
     "execution_count": 7,
     "metadata": {},
     "output_type": "execute_result"
    }
   ],
   "source": [
    "#3. (c)find the size of largest conneeted components\n",
    "nG=len(list(nx.connected_components(G))[0])\n",
    "for i in list(nx.connected_components(G))[1:]:\n",
    "    if len(i)>nG :\n",
    "        nG=len(i)\n",
    "nG # (v): 45"
   ]
  },
  {
   "cell_type": "code",
   "execution_count": 8,
   "metadata": {},
   "outputs": [
    {
     "name": "stdout",
     "output_type": "stream",
     "text": [
      "0.03927927927927928\n"
     ]
    }
   ],
   "source": [
    "#3. (d) count the max numbers of edge and divide\n",
    "emax=G.order()*(G.order()-1)/2 \n",
    "print(G.size()/emax) #answer"
   ]
  },
  {
   "cell_type": "code",
   "execution_count": 18,
   "metadata": {},
   "outputs": [
    {
     "name": "stdout",
     "output_type": "stream",
     "text": [
      "[1, 1, 5, 3, 6, 4, 5, 6, 2, 9, 2, 2, 5, 5, 1, 4, 1, 3, 5, 4, 4, 1, 1, 1, 6, 5, 0, 2, 1, 1, 2, 3, 1, 5, 1, 4, 1, 4, 5, 4, 1, 4, 1, 3, 2, 2, 2, 4, 3, 5, 1, 4, 1, 3, 1, 1, 4, 1, 2, 1, 1, 2, 2, 3, 4, 2, 4, 4, 3, 5, 8, 3, 2, 3, 0]\n"
     ]
    },
    {
     "data": {
      "image/png": "[encoded data removed]",
      "text/plain": [
       "<matplotlib.figure.Figure at 0x113937860>"
      ]
     },
     "metadata": {},
     "output_type": "display_data"
    }
   ],
   "source": [
    "# Define the function \n",
    "def deg(G):\n",
    "    vector,degree=[],[]\n",
    "    for i in G.nodes():\n",
    "        vector+=[i]\n",
    "        degree+=[len(G.edges(i))]\n",
    "    ki=pd.DataFrame({\"vector\":vector,\"degree\":degree}) #Dataframe includs the id and degree\n",
    "    ki=ki.sort_values(by=\"vector\")\n",
    "    vector_k,x,y=[],[],[]\n",
    "    ki2=ki[\"degree\"].value_counts().sort_index() #After count the value , sort the dataframe by index\n",
    "    vector_k+=list(ki[\"degree\"])\n",
    "    for i in ki2.index:\n",
    "        x+=[i]\n",
    "        y+=[ki2[i]/G.order()]\n",
    "    return(vector_k,x,y)\n",
    "vector_k,x,y=deg(G)\n",
    "print(vector_k)\n",
    "plt.bar(x,y)\n",
    "plt.xlabel(\"degree, k\")\n",
    "plt.ylabel(\"Pr(k)\")\n",
    "plt.show() #Show the degree distribution"
   ]
  },
  {
   "cell_type": "code",
   "execution_count": 10,
   "metadata": {},
   "outputs": [
    {
     "name": "stdout",
     "output_type": "stream",
     "text": [
      "52\n"
     ]
    }
   ],
   "source": [
    "#3. (e) Define the function\n",
    "def triangle(G):\n",
    "    tri=[]\n",
    "    for i in nx.connected_components(G): #Find the any group\n",
    "        if len(i)>=3: \n",
    "            for j in i : \n",
    "                num=()\n",
    "                for g in G.edges(j): # Find the continuous friends\n",
    "                    for z in G.edges(g[1]):\n",
    "                        if z[1]!=j:  \n",
    "                            for c in G.edges(z[1]): \n",
    "                                if c[1]==j:\n",
    "                                    num=tuple(sorted([g[0],g[1],z[1]]))\n",
    "                                    tri+=[num]\n",
    "    tri=len(set(tri))\n",
    "    return tri\n",
    "tri=triangle(G)\n",
    "print(tri) #answer"
   ]
  },
  {
   "cell_type": "code",
   "execution_count": null,
   "metadata": {},
   "outputs": [],
   "source": []
  }
 ],
 "metadata": {
  "kernelspec": {
   "display_name": "Python 3",
   "language": "python",
   "name": "python3"
  },
  "language_info": {
   "codemirror_mode": {
    "name": "ipython",
    "version": 3
   },
   "file_extension": ".py",
   "mimetype": "text/x-python",
   "name": "python",
   "nbconvert_exporter": "python",
   "pygments_lexer": "ipython3",
   "version": "3.6.4"
  }
 },
 "nbformat": 4,
 "nbformat_minor": 2
}
