{
 "cells": [
  {
   "cell_type": "code",
   "execution_count": 1,
   "metadata": {},
   "outputs": [
    {
     "name": "stdout",
     "output_type": "stream",
     "text": [
      "Name: \n",
      "Type: Graph\n",
      "Number of nodes: 75\n",
      "Number of edges: 109\n",
      "Average degree:   2.9067\n",
      "Edgelist txt data successfully loaded into a networkx Graph!\n"
     ]
    }
   ],
   "source": [
    "import networkx as nx\n",
    "from networkie.gen import Custom\n",
    "lff = Custom.LoadFromFile()\n",
    "g = lff.from_in_class_network(\"dataset/In-class_network.txt\")"
   ]
  },
  {
   "cell_type": "code",
   "execution_count": 13,
   "metadata": {},
   "outputs": [
    {
     "name": "stdout",
     "output_type": "stream",
     "text": [
      "The number of nodes: 75\n",
      "----------------\n",
      "The number of edges: 109\n",
      "----------------\n",
      "Average degree: 2.9066666666666667\n",
      "----------------\n",
      "There would be 7 connected components, and the average path length of each connected component is [0, 0, 4.721212121212122, 1.8333333333333333, 1.380952380952381, 1.0, 1.3, 1.0, 1.3333333333333333] all connected components is : 1.3965367965367967\n",
      "The size of the largest connected component: 45\n",
      "----------------\n",
      "If the network is fully connected, the max edges would be: 2775\n",
      "The edges of original network divided by max edges would be: 0.03927927927927928\n"
     ]
    }
   ],
   "source": [
    "import numpy as np\n",
    "\n",
    "#The number of nodes\n",
    "n = nx.number_of_nodes(g)\n",
    "print(\"The number of nodes: %d\" % (n))\n",
    "print(\"----------------\")\n",
    "\n",
    "#The number of edges\n",
    "e = nx.number_of_edges(g)\n",
    "print(\"The number of edges: %d\" % (e))\n",
    "print(\"----------------\")\n",
    "\n",
    "#Average degree\n",
    "degrees = 2*e/n\n",
    "print(\"Average degree:\",degrees)\n",
    "print(\"----------------\")\n",
    "\n",
    "#Average path length & size of the largest connected component\n",
    "k = g.copy()\n",
    "count = 0\n",
    "pathlist = []\n",
    "component_size = []\n",
    "count_of_zero = list(nx.isolates(k))\n",
    "for element in count_of_zero:\n",
    "    pathlist.append(0)\n",
    "k.remove_nodes_from(list(nx.isolates(k)))\n",
    "connected_components = nx.connected_component_subgraphs(k)\n",
    "for component in connected_components:\n",
    "    count = count + 1\n",
    "    component_size.append(nx.number_of_nodes(component))\n",
    "    pathlist.append(nx.average_shortest_path_length(component))\n",
    "l = sum(pathlist)/len(pathlist)\n",
    "ng = max(component_size)\n",
    "print(\"There would be\",count,\"connected components, and the average path length of each connected component is\",pathlist,\"all connected components is :\", l)\n",
    "print(\"The size of the largest connected component: %d\" % (ng))\n",
    "print(\"----------------\")\n",
    "\n",
    "#fully connected\n",
    "g_fully_connected = nx.complete_graph(n)\n",
    "e_max = nx.number_of_edges(g_fully_connected)\n",
    "e_e_max_rate = e / e_max\n",
    "print(\"If the network is fully connected, the max edges would be: %d\" % (e_max))\n",
    "print(\"The edges of original network divided by max edges would be:\",e_e_max_rate)"
   ]
  },
  {
   "cell_type": "code",
   "execution_count": 14,
   "metadata": {},
   "outputs": [
    {
     "name": "stdout",
     "output_type": "stream",
     "text": [
      "The list of degree [1, 1, 5, 3, 6, 4, 5, 6, 2, 9, 2, 2, 5, 5, 1, 4, 1, 3, 5, 4, 4, 1, 1, 1, 6, 5, 0, 2, 1, 1, 2, 3, 1, 5, 1, 4, 1, 4, 5, 4, 1, 4, 1, 3, 2, 2, 2, 4, 3, 5, 1, 4, 1, 3, 1, 1, 4, 1, 2, 1, 1, 2, 2, 3, 4, 2, 4, 4, 3, 5, 8, 3, 2, 3, 0]\n",
      "The degree distribution:\n"
     ]
    },
    {
     "data": {
      "image/png": "[encoded data removed]",
      "text/plain": [
       "<matplotlib.figure.Figure at 0x8d48a90>"
      ]
     },
     "metadata": {},
     "output_type": "display_data"
    }
   ],
   "source": [
    "#Plot the degree distribution\n",
    "import networkx as nx\n",
    "from networkie.utils import Measures\n",
    "degree_list = Measures.Node()\n",
    "g_degree = degree_list.degree_dist(g)\n",
    "print(\"The list of degree\",g_degree)\n",
    "import matplotlib.pyplot as plt \n",
    "%matplotlib inline\n",
    "print(\"The degree distribution:\")\n",
    "g_degree = np.array(g_degree)\n",
    "y = np.bincount(g_degree)\n",
    "x = np.nonzero(y)[0]\n",
    "plt.hist(g_degree, 9, normed=0, facecolor='blue', edgecolor='black',alpha=1,histtype='bar')\n",
    "plt.xlabel(\"Degree\")\n",
    "plt.ylabel('Number')\n",
    "plt.title('Degree distribution')\n",
    "plt.show()"
   ]
  },
  {
   "cell_type": "code",
   "execution_count": 15,
   "metadata": {},
   "outputs": [
    {
     "name": "stdout",
     "output_type": "stream",
     "text": [
      "The total triangle of the graph 52\n"
     ]
    }
   ],
   "source": [
    "import networkx as nx\n",
    "from networkie.utils import Measures\n",
    "triangles = Measures.compute_num_triangles(g)\n",
    "print(\"The total triangle of the graph %d\" %(triangles))"
   ]
  },
  {
   "cell_type": "code",
   "execution_count": null,
   "metadata": {},
   "outputs": [],
   "source": []
  }
 ],
 "metadata": {
  "kernelspec": {
   "display_name": "Python 3",
   "language": "python",
   "name": "python3"
  },
  "language_info": {
   "codemirror_mode": {
    "name": "ipython",
    "version": 3
   },
   "file_extension": ".py",
   "mimetype": "text/x-python",
   "name": "python",
   "nbconvert_exporter": "python",
   "pygments_lexer": "ipython3",
   "version": "3.6.4"
  }
 },
 "nbformat": 4,
 "nbformat_minor": 2
}
