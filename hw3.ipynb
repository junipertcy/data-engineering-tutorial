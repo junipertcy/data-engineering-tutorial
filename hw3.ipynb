{
 "cells": [
  {
   "cell_type": "code",
   "execution_count": 1,
   "metadata": {},
   "outputs": [],
   "source": [
    "# Import the necessary modules\n",
    "import numpy as np\n",
    "import pandas as pd\n",
    "import matplotlib.pyplot as plt\n",
    "import networkx as nx\n",
    "from networkie.gen import Custom\n",
    "from networkie.utils import Measures\n",
    "%matplotlib inline"
   ]
  },
  {
   "cell_type": "code",
   "execution_count": 2,
   "metadata": {},
   "outputs": [
    {
     "name": "stdout",
     "output_type": "stream",
     "text": [
      "Descriptive statistics of the graph:\n",
      "------------------------------------\n",
      "Number of nodes (n):  75\n",
      "------------------------------------\n",
      "Number of edges (e):  109\n",
      "------------------------------------\n",
      "Average degree (k):  2.9067\n",
      "------------------------------------\n",
      "There are 9 connected components in the graph, and the average shortest path (l) for each connected components are:\n",
      "   4.7212\n",
      "   1.381\n",
      "   1.8333\n",
      "   1.3333\n",
      "   1.0\n",
      "   0\n",
      "   1.3\n",
      "   1.0\n",
      "   0\n",
      "------------------------------------\n",
      "The size of the largest connected component (n_G):  45\n",
      "------------------------------------\n",
      "If the network is fully connected, the max number of edges (e_max) will be:  2775\n",
      "The edges of the original network divided by the max number of edges (e/e_max) will be:  0.0393\n"
     ]
    }
   ],
   "source": [
    "# Load the In-class network.txt to a networkx Graph object, and show common descriptive statistics\n",
    "lff=Custom.LoadFromFile()\n",
    "g = lff.from_in_class_network(path='./dataset/In-class_network.txt',print_info='True')"
   ]
  },
  {
   "cell_type": "code",
   "execution_count": 3,
   "metadata": {},
   "outputs": [
    {
     "name": "stdout",
     "output_type": "stream",
     "text": [
      "The list of degrees:\n",
      " [1, 1, 5, 3, 6, 4, 5, 6, 2, 9, 2, 2, 5, 5, 1, 4, 1, 3, 5, 4, 4, 1, 1, 1, 6, 5, 0, 2, 1, 1, 2, 3, 1, 5, 1, 4, 1, 4, 5, 4, 1, 4, 1, 3, 2, 2, 2, 4, 3, 5, 1, 4, 1, 3, 1, 1, 4, 1, 2, 1, 1, 2, 2, 3, 4, 2, 4, 4, 3, 5, 8, 3, 2, 3, 0]\n"
     ]
    },
    {
     "data": {
      "image/png": "[encoded data removed]",
      "text/plain": [
       "<Figure size 432x288 with 1 Axes>"
      ]
     },
     "metadata": {},
     "output_type": "display_data"
    }
   ],
   "source": [
    "# List the degrees and plot the degree distribution\n",
    "nodes=Measures.Node()\n",
    "nodes_degrees=nodes.degree_dist(g)\n",
    "print('The list of degrees:\\n', nodes_degrees)\n",
    "nodes_degrees=np.array(nodes_degrees)\n",
    "y=np.bincount(nodes_degrees)\n",
    "x=np.arange(max(nodes_degrees)+1)\n",
    "ax=plt.bar(x,y,color='cm')\n",
    "plt.title('The Degrees\\' Distribution')\n",
    "plt.xlabel('Degree')\n",
    "plt.ylabel('Count')\n",
    "plt.xticks(x)\n",
    "plt.yticks(np.arange(0,max(y)+2,2))\n",
    "plt.show()"
   ]
  },
  {
   "cell_type": "code",
   "execution_count": 4,
   "metadata": {},
   "outputs": [
    {
     "name": "stdout",
     "output_type": "stream",
     "text": [
      "The total number of triangles in the network:  52\n",
      "The total triangles:  [(2, 25, 45), (2, 25, 56), (2, 30, 56), (3, 7, 33), (3, 7, 69), (3, 33, 69), (4, 5, 13), (4, 5, 18), (4, 5, 66), (4, 13, 18), (4, 13, 61), (4, 13, 66), (4, 18, 66), (5, 13, 18), (5, 13, 66), (5, 18, 66), (6, 19, 38), (6, 19, 53), (6, 38, 53), (7, 17, 33), (7, 17, 69), (7, 33, 63), (7, 33, 69), (7, 63, 69), (8, 20, 70), (9, 12, 24), (9, 12, 39), (9, 24, 39), (9, 24, 51), (9, 24, 71), (9, 39, 51), (9, 46, 51), (11, 47, 49), (12, 24, 39), (13, 18, 66), (15, 35, 67), (15, 35, 70), (15, 67, 70), (17, 33, 69), (19, 38, 53), (20, 35, 70), (24, 39, 51), (24, 41, 71), (25, 47, 56), (31, 37, 43), (31, 37, 48), (31, 43, 48), (33, 63, 69), (35, 67, 70), (37, 43, 48), (49, 64, 73), (49, 72, 73)]\n"
     ]
    }
   ],
   "source": [
    "# Find all the triangles in the network\n",
    "tri_list = Measures.compute_num_triangles(g)\n",
    "print('The total number of triangles in the network: ', len(tri_list))\n",
    "print('The total triangles: ', tri_list)"
   ]
  },
  {
   "cell_type": "code",
   "execution_count": null,
   "metadata": {},
   "outputs": [],
   "source": []
  }
 ],
 "metadata": {
  "kernelspec": {
   "display_name": "Python [conda env:dl]",
   "language": "python",
   "name": "conda-env-dl-py"
  },
  "language_info": {
   "codemirror_mode": {
    "name": "ipython",
    "version": 3
   },
   "file_extension": ".py",
   "mimetype": "text/x-python",
   "name": "python",
   "nbconvert_exporter": "python",
   "pygments_lexer": "ipython3",
   "version": "3.5.0"
  },
  "widgets": {
   "state": {},
   "version": "1.1.2"
  }
 },
 "nbformat": 4,
 "nbformat_minor": 2
}
