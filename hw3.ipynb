{
 "cells": [
  {
   "cell_type": "code",
   "execution_count": 1,
   "metadata": {
    "scrolled": true
   },
   "outputs": [
    {
     "name": "stdout",
     "output_type": "stream",
     "text": [
      "Name: \n",
      "Type: Graph\n",
      "Number of nodes: 75\n",
      "Number of edges: 109\n",
      "Average degree:   2.9067\n",
      "Edgelist txt data successfully loaded into a networkx Graph!\n"
     ]
    }
   ],
   "source": [
    "import networkx as nx\n",
    "import numpy as np\n",
    "import pandas as pd  \n",
    "from networkie.gen import Custom\n",
    "import matplotlib.pyplot as plt\n",
    "\n",
    "load = Custom.LoadFromFile()\n",
    "g =load.from_in_class_network(\"dataset/In-class_network.txt\")\n",
    "df = pd.read_table(\"dataset/In-class_network.txt\")"
   ]
  },
  {
   "cell_type": "code",
   "execution_count": 2,
   "metadata": {},
   "outputs": [
    {
     "data": {
      "image/png": "[encoded data removed]",
      "text/plain": [
       "<Figure size 432x288 with 1 Axes>"
      ]
     },
     "metadata": {},
     "output_type": "display_data"
    }
   ],
   "source": [
    "nx.draw(g, node_color = '#00BBFF', node_size = 20, with_labels = False)\n",
    "plt.show()\n"
   ]
  },
  {
   "cell_type": "code",
   "execution_count": 13,
   "metadata": {},
   "outputs": [
    {
     "name": "stdout",
     "output_type": "stream",
     "text": [
      "The number of nodes: 75\n",
      "The number of edges: 109\n",
      "Average degree: 2.9066666666666667\n",
      "Average path : \n",
      "The size of the largest connected component : 45\n"
     ]
    }
   ],
   "source": [
    "import numpy as np\n",
    "\n",
    "# b.(1) the number\n",
    "number = nx.number_of_nodes(g)\n",
    "print(\"The number of nodes: %d\" % (number))\n",
    "# b.(2) the number of edges\n",
    "edge = nx.number_of_edges(g)\n",
    "print(\"The number of edges: %d\" % (edge))\n",
    "# b.(3) the number of Average degree\n",
    "Average_degrees = 2*edge/number\n",
    "print(\"Average degree:\",Average_degrees)\n",
    "# b.(4) the number of Average path\n",
    "\n",
    "print('Average path : ')\n",
    "\n",
    "\n",
    "# b.(5) the the size of the largest connected component\n",
    "largest = max(nx.connected_components(g), key=len)\n",
    "print(\"The size of the largest connected component :\" ,len(largest))"
   ]
  },
  {
   "cell_type": "code",
   "execution_count": 4,
   "metadata": {},
   "outputs": [
    {
     "name": "stdout",
     "output_type": "stream",
     "text": [
      "0.07077922077922078\n"
     ]
    }
   ],
   "source": [
    "#e/emax\n",
    "e_max=(len(df['ID'])*(len(df['ID'])-1))/2    #56為資料ID欄位的總長\n",
    "division_emax=g.size()/e_max\n",
    "print(division_emax)"
   ]
  },
  {
   "cell_type": "code",
   "execution_count": 5,
   "metadata": {},
   "outputs": [
    {
     "name": "stderr",
     "output_type": "stream",
     "text": [
      "c:\\python35-32\\lib\\site-packages\\matplotlib\\axes\\_axes.py:6462: UserWarning: The 'normed' kwarg is deprecated, and has been replaced by the 'density' kwarg.\n",
      "  warnings.warn(\"The 'normed' kwarg is deprecated, and has been \"\n"
     ]
    },
    {
     "data": {
      "image/png": "[encoded data removed]",
      "text/plain": [
       "<Figure size 432x288 with 1 Axes>"
      ]
     },
     "metadata": {},
     "output_type": "display_data"
    }
   ],
   "source": [
    "from networkie.utils import Measures\n",
    "node = Measures.Node()\n",
    "g_degree = node.degree_dist(g)\n",
    "\n",
    " \n",
    "%matplotlib inline\n",
    "g_degree = np.array(g_degree)\n",
    "y = np.bincount(g_degree)\n",
    "x = np.arange(max(g_degree)+1)\n",
    "plt.hist(g_degree, 9, normed=0, facecolor='#00BBFF',histtype='bar')\n",
    "plt.title('Degree distribution')\n",
    "plt.xlabel(\"Degree\")\n",
    "plt.ylabel('Number')\n",
    "\n",
    "plt.show()"
   ]
  },
  {
   "cell_type": "code",
   "execution_count": 6,
   "metadata": {},
   "outputs": [
    {
     "name": "stdout",
     "output_type": "stream",
     "text": [
      "The total triangle of the graph  52.0\n"
     ]
    }
   ],
   "source": [
    "from networkie.utils import Measures\n",
    "answer_triangle = Measures.compute_num_triangles(g)\n",
    "print(\"The total triangle of the graph \" ,(answer_triangle))"
   ]
  },
  {
   "cell_type": "code",
   "execution_count": null,
   "metadata": {},
   "outputs": [],
   "source": []
  },
  {
   "cell_type": "code",
   "execution_count": null,
   "metadata": {},
   "outputs": [],
   "source": []
  },
  {
   "cell_type": "code",
   "execution_count": null,
   "metadata": {},
   "outputs": [],
   "source": []
  },
  {
   "cell_type": "code",
   "execution_count": null,
   "metadata": {},
   "outputs": [],
   "source": []
  }
 ],
 "metadata": {
  "kernelspec": {
   "display_name": "Python 3",
   "language": "python",
   "name": "python3"
  },
  "language_info": {
   "codemirror_mode": {
    "name": "ipython",
    "version": 3
   },
   "file_extension": ".py",
   "mimetype": "text/x-python",
   "name": "python",
   "nbconvert_exporter": "python",
   "pygments_lexer": "ipython3",
   "version": "3.5.2"
  }
 },
 "nbformat": 4,
 "nbformat_minor": 2
}
