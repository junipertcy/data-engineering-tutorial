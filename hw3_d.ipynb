{
 "cells": [
  {
   "cell_type": "code",
   "execution_count": 92,
   "metadata": {},
   "outputs": [
    {
     "name": "stdout",
     "output_type": "stream",
     "text": [
      "Name: \n",
      "Type: Graph\n",
      "Number of nodes: 73\n",
      "Number of edges: 109\n",
      "Average degree:   2.9863\n",
      "Edgelist txt data successfully loaded into a networkx Graph!\n"
     ]
    },
    {
     "data": {
      "text/plain": [
       "<networkx.classes.graph.Graph at 0x18168316ef0>"
      ]
     },
     "execution_count": 92,
     "metadata": {},
     "output_type": "execute_result"
    }
   ],
   "source": [
    "import networkx as nx\n",
    "import matplotlib.pyplot as plt\n",
    "\n",
    "class LoadFromFile(object):\n",
    "    def __init__(self):\n",
    "        \"\"\"\n",
    "        Initiate variables for the class.\n",
    "        \"\"\"\n",
    "        self.g = nx.Graph()\n",
    "\n",
    "        pass\n",
    "        \n",
    "    def from_in_class_network(self, path):  \n",
    "        '''\n",
    "        Prob. 4-a.\n",
    "        1. read the txt file by line, and split it by tab\n",
    "        2. ID stored in the first index of the line, append them in 'nodelist'\n",
    "        3. IDs-of-acquaintances stored in the second index of the line,\n",
    "        combine them with the correspond ID and store them in 'edgelist'.\n",
    "        4. Remind that there may be more than one acquaintance in the data,\n",
    "        split it by ',' and store them in 'temp_edge'\n",
    "        5. parse the 'nodelist' and 'edgelist' data into nx.Graph()\n",
    "        6. return the graph\n",
    "        '''\n",
    "        edgelist = []\n",
    "        nodelist = []\n",
    "        counter = 0\n",
    "        with open(path, 'r') as f:\n",
    "            for line in f:\n",
    "                node_pair = line.replace('\\n', '').split('\\t')\n",
    "                if counter != 0:\n",
    "                    nodelist += [node_pair[0]]\n",
    "                    temp_edge = node_pair[1].split(',')\n",
    "                    for i in range(len(temp_edge)):\n",
    "                        if (node_pair[1][i].isspace() == False) :\n",
    "                            current_edge = [node_pair[0], temp_edge[i]]\n",
    "                            edgelist += [current_edge]\n",
    "                counter = counter + 1\n",
    "        self.g.add_edges_from(edgelist)\n",
    "        print(nx.info(self.g))\n",
    "        print('Edgelist txt data successfully loaded into a networkx Graph!')\n",
    "        return self.g\n",
    "    \n",
    "    def degree_dist(self):  # This is Prob. 3-d.\n",
    "        '''\n",
    "        Prob. 4-a.\n",
    "        1. find all the nodes from self.g.nodes(), store them in 'all_nodes'\n",
    "        2. find the degree of each nodes stored in 'all_nodes', store the result in 'list_of_degree'\n",
    "        3. append the value of 'list_of_degree' to 'all_degree'\n",
    "        (I don't know why .values() return 'no attribute' error to me with self.g.degree(all_nodes).values(),\n",
    "        thus i chose an alternative way to deal with it)\n",
    "        4. return 'all_degree'\n",
    "        5. plot 'all_degree' by matplotlib in the next cell\n",
    "        '''\n",
    "        all_nodes = self.g.nodes()\n",
    "        list_of_degree = list(self.g.degree(all_nodes))\n",
    "        \n",
    "        all_degree = []\n",
    "        for i in range(len(list_of_degree)):\n",
    "            all_degree.append(list_of_degree[i][1])\n",
    "\n",
    "        \n",
    "        return all_degree\n",
    "     \n",
    "in_class = LoadFromFile()\n",
    "in_class.from_in_class_network('E:/WORKOUT/Statistic/data_sciense_intro/hw3/In-class_network.txt')\n",
    "        "
   ]
  },
  {
   "cell_type": "code",
   "execution_count": 75,
   "metadata": {},
   "outputs": [
    {
     "data": {
      "image/png": "[encoded data removed]",
      "text/plain": [
       "<Figure size 432x288 with 1 Axes>"
      ]
     },
     "metadata": {},
     "output_type": "display_data"
    }
   ],
   "source": [
    "# prob 3.d\n",
    "all_degree = in_class.degree_dist()\n",
    "degree_dict = {i:all_degree.count(i) for i in all_degree}\n",
    "\n",
    "names = list(degree_dict.keys())\n",
    "values = list(degree_dict.values())\n",
    "\n",
    "plt.bar(range(len(degree_dict)),values,tick_label=names)\n",
    "plt.show()"
   ]
  }
 ],
 "metadata": {
  "kernelspec": {
   "display_name": "Python 3",
   "language": "python",
   "name": "python3"
  },
  "language_info": {
   "codemirror_mode": {
    "name": "ipython",
    "version": 3
   },
   "file_extension": ".py",
   "mimetype": "text/x-python",
   "name": "python",
   "nbconvert_exporter": "python",
   "pygments_lexer": "ipython3",
   "version": "3.6.5"
  }
 },
 "nbformat": 4,
 "nbformat_minor": 2
}
