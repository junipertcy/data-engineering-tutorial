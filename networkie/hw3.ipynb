{
 "cells": [
  {
   "cell_type": "code",
   "execution_count": 1,
   "metadata": {},
   "outputs": [],
   "source": [
    "import pandas as pd\n",
    "import matplotlib.pyplot as plt\n",
    "import numpy as np\n",
    "import networkx as nx\n",
    "import sys "
   ]
  },
  {
   "cell_type": "code",
   "execution_count": 2,
   "metadata": {},
   "outputs": [],
   "source": [
    "from Custom import LoadFromFile\n",
    "from Measures import Node\n",
    "from Measures import recommend_friend\n",
    "from Measures import compute_num_triangles\n",
    "from Measures import mutual_friends"
   ]
  },
  {
   "cell_type": "code",
   "execution_count": 4,
   "metadata": {},
   "outputs": [
    {
     "data": {
      "image/png": "[encoded data removed]",
      "text/plain": [
       "<matplotlib.figure.Figure at 0xfd4ca30>"
      ]
     },
     "metadata": {},
     "output_type": "display_data"
    }
   ],
   "source": [
    "#Prob 3-a\n",
    "a=LoadFromFile()\n",
    "G = a.from_in_class_network(\"In-class_network.txt\")\n",
    "nx.draw(G)\n",
    "plt.show()"
   ]
  },
  {
   "cell_type": "code",
   "execution_count": 5,
   "metadata": {},
   "outputs": [
    {
     "name": "stdout",
     "output_type": "stream",
     "text": [
      "Number of nodes: 75\n",
      "Number of edges: 109\n",
      "Average degree: 2.9066666666666667\n",
      "Average path: 10.709413369713506\n",
      "The maximum size connected component: 45\n"
     ]
    }
   ],
   "source": [
    "#Prob 3-b-1\n",
    "n=G.number_of_nodes()\n",
    "print(\"Number of nodes:\",n)\n",
    "#Prob 3-b-2\n",
    "e=len(list(G.edges()))\n",
    "print(\"Number of edges:\",e)\n",
    "#Prob 3-b-3\n",
    "avg_degree=a.Avg_degree(G) #self-defined function in Custom.py\n",
    "print(\"Average degree:\",avg_degree)\n",
    "#Prob 3-b-4\n",
    "nodes=sorted(G.nodes())\n",
    "edges=sorted(G.edges())\n",
    "length,num=0,0\n",
    "for i in range(len(nodes)):\n",
    "    for k in range(len(nodes)):\n",
    "        try:\n",
    "            length+=len(nx.shortest_path(G,source=nodes[i],target=nodes[k]))\n",
    "        except Exception: #there is no path between i and k\n",
    "            continue\n",
    "        else:\n",
    "            num+=1\n",
    "            length+=len(nx.shortest_path(G,source=i,target=k))  \n",
    "print(\"Average path:\",length/num)\n",
    "#Prob 3-b-5\n",
    "component=list(nx.connected_components(G))\n",
    "size=0\n",
    "for i in range(len(component)):\n",
    "    if len(component[i])>size:\n",
    "        size=len(component[i])\n",
    "print(\"The maximum size connected component:\",size)"
   ]
  },
  {
   "cell_type": "code",
   "execution_count": 6,
   "metadata": {},
   "outputs": [
    {
     "name": "stdout",
     "output_type": "stream",
     "text": [
      "e/e(max): 0.03927927927927928\n"
     ]
    },
    {
     "data": {
      "image/png": "[encoded data removed]",
      "text/plain": [
       "<matplotlib.figure.Figure at 0x5ef590>"
      ]
     },
     "metadata": {},
     "output_type": "display_data"
    },
    {
     "name": "stdout",
     "output_type": "stream",
     "text": [
      "Number of the triangles: 52\n"
     ]
    }
   ],
   "source": [
    "#Prob 3-c\n",
    "num_of_fully_connected_edges=n*(n-1)/2 #directed graph\n",
    "ratio=len(list(G.edges()))/num_of_fully_connected_edges\n",
    "print(\"e/e(max):\",ratio)\n",
    "\n",
    "#Prob. 3-d\n",
    "b=Node()\n",
    "degree_list=b.degree_dist(G)\n",
    "#distribution graph\n",
    "distribution=[]\n",
    "plt.hist(list(degree_list),bins=list(range(max(degree_list)+1)))\n",
    "plt.show()\n",
    "\n",
    "#Prob. 3-e\n",
    "num_tri=compute_num_triangles(G) \n",
    "print(\"Number of the triangles:\",num_tri)"
   ]
  },
  {
   "cell_type": "code",
   "execution_count": 7,
   "metadata": {},
   "outputs": [
    {
     "name": "stdout",
     "output_type": "stream",
     "text": [
      "collection potential friends: {0: [8, 15, 20, 35, 38, 67, 44], 1: [68], 2: [47, 57], 3: [21, 17, 63], 4: [42, 54], 5: [61, 10, 42], 6: [64, 41, 70, 15, 35], 7: [], 8: [15, 35, 38, 67, 0, 44, 68], 9: [15, 41, 65, 22], 10: [13, 18, 66, 61, 5], 11: [56, 25, 73, 72, 64], 12: [40, 51, 32, 46, 27, 71, 41, 14], 13: [10, 42], 14: [12], 15: [8, 20, 38, 0, 44, 9, 6], 16: [60], 17: [3, 21, 63], 18: [61, 10], 19: [36, 67, 41, 70, 49, 73], 20: [15, 38, 67, 0, 44, 29, 58], 21: [3, 17, 69, 63, 33], 22: [65, 39, 9, 24], 23: [], 24: [40, 32, 46, 27, 65, 22, 64, 38], 25: [34, 30, 11, 49], 26: [], 27: [40, 51, 39, 32, 46, 71, 24, 12, 35, 67, 70], 28: [], 29: [20, 58], 30: [34, 25, 45, 47], 31: [52], 32: [40, 51, 39, 46, 27, 71, 24, 12], 33: [21], 34: [56, 25, 30, 45], 35: [8, 38, 0, 44, 68, 27, 6], 36: [19, 53, 38, 67], 37: [], 38: [36, 67, 64, 8, 15, 20, 35, 0, 44, 71, 24], 39: [40, 32, 46, 27, 71, 41, 65, 22], 40: [51, 39, 32, 46, 27, 71, 24, 12], 41: [6, 19, 53, 70, 9, 12, 39, 51, 49, 73], 42: [4, 5, 13, 66], 43: [52], 44: [8, 15, 20, 35, 38, 67, 0], 45: [56, 34, 30, 57, 47], 46: [40, 39, 32, 27, 71, 24, 12], 47: [2, 30, 57, 45, 73, 72, 64], 48: [52], 49: [19, 41, 56, 25], 50: [], 51: [40, 32, 27, 71, 12, 41], 52: [31, 43, 48], 53: [36, 67, 64, 41, 70], 54: [4], 55: [], 56: [34, 45, 57, 11, 49], 57: [2, 56, 45, 47], 58: [20, 29], 59: [70], 60: [16], 61: [18, 66, 5, 10], 62: [], 63: [3, 21, 17], 64: [6, 38, 53, 71, 24, 72, 11, 47], 65: [39, 9, 24, 22], 66: [61, 10, 42], 67: [19, 53, 38, 36, 8, 20, 0, 44, 27], 68: [1, 8, 35, 70], 69: [21], 70: [6, 19, 41, 53, 68, 27, 59], 71: [40, 51, 39, 32, 46, 27, 12, 64, 38], 72: [64, 11, 47], 73: [19, 41, 11, 47], 74: []}\n",
      "the best 3 recommend friends: [56, 30, 47]\n"
     ]
    }
   ],
   "source": [
    "#Prob 6-a\n",
    "potential_friend_list=recommend_friend(G)\n",
    "print(\"collection potential friends:\",potential_friend_list)\n",
    "#Prob 6-b\n",
    "recommend=mutual_friends(G,list(G.neighbors(45)),potential_friend_list)\n",
    "print(\"The best 3 recommend friends:\",recommend)"
   ]
  }
 ],
 "metadata": {
  "kernelspec": {
   "display_name": "Python 3",
   "language": "python",
   "name": "python3"
  },
  "language_info": {
   "codemirror_mode": {
    "name": "ipython",
    "version": 3
   },
   "file_extension": ".py",
   "mimetype": "text/x-python",
   "name": "python",
   "nbconvert_exporter": "python",
   "pygments_lexer": "ipython3",
   "version": "3.6.2"
  }
 },
 "nbformat": 4,
 "nbformat_minor": 2
}
