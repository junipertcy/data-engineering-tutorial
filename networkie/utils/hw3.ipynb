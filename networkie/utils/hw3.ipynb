{
 "cells": [
  {
   "cell_type": "code",
   "execution_count": 8,
   "metadata": {},
   "outputs": [
    {
     "data": {
      "image/png": "[encoded data removed]",
      "text/plain": [
       "<Figure size 432x288 with 1 Axes>"
      ]
     },
     "metadata": {},
     "output_type": "display_data"
    }
   ],
   "source": [
    "import networkx as nx\n",
    "import matplotlib.pyplot as plt\n",
    "import numpy as np\n",
    "from Custom import LoadFromFile\n",
    "\n",
    "g = nx.Graph ()\n",
    "g = LoadFromFile.from_in_class_network ( g, \"In-class_network.txt\" )\n",
    "\n",
    "class Node(object):\n",
    "    def __init__(self):\n",
    "        pass\n",
    "\n",
    "    def betweenness(self):\n",
    "        pass\n",
    "\n",
    "    # This is Prob. 3-d.\n",
    "    def degree_dist(self):\n",
    "        Degree = []\n",
    "        for i in g.nodes:\n",
    "            Degree.append ( g.degree (i) )\n",
    "            Unique_Degree = list ( set ( Degree ) )\n",
    "        Number = []\n",
    "        for i in Unique_Degree:\n",
    "            Number.append ( Degree.count ( i ) )\n",
    "            \n",
    "        # This is Prob. 4-a.\n",
    "        '''\n",
    "        將每一個 Node 的 Degree 數存放在 [ Degree ] 裡面，把 Degree 不重複的存在 [ Unique_Degree ] 裡\n",
    "        計算 Unique Degree 在 Degree 裡出現的次數存進 [ Number ] 裡\n",
    "        再將 Degree、Number 對應畫出 bar chart\n",
    "        '''\n",
    "        return Unique_Degree, Number\n",
    "\n",
    "Unique_Degree, Number = Node.degree_dist ( g )\n",
    "plt.title ( \"Degree Distribution\" ) # 打出圖表標題\n",
    "plt.xlabel ( \"Degree\" ) # 打出 X 軸名稱\n",
    "plt.ylabel ( \"Number\" ) # 打出 Y 軸名稱\n",
    "plt.bar ( Unique_Degree , Number ) # 畫出 Degree 跟 Number\n",
    "plt.show ()"
   ]
  }
 ],
 "metadata": {
  "kernelspec": {
   "display_name": "Python 3",
   "language": "python",
   "name": "python3"
  },
  "language_info": {
   "codemirror_mode": {
    "name": "ipython",
    "version": 3
   },
   "file_extension": ".py",
   "mimetype": "text/x-python",
   "name": "python",
   "nbconvert_exporter": "python",
   "pygments_lexer": "ipython3",
   "version": "3.6.4"
  }
 },
 "nbformat": 4,
 "nbformat_minor": 2
}
